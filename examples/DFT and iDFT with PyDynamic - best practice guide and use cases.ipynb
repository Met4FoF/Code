{
 "cells": [
  {
   "cell_type": "markdown",
   "metadata": {},
   "source": [
    "# DFT and inverse DFT with PyDynamic - best practice guide"
   ]
  },
  {
   "cell_type": "markdown",
   "metadata": {},
   "source": [
    "The discrete Fourier transform (DFT) and its inverse (iDFT) are common tools in dynamic metrology. For the corresponding propagation of uncertainties, *PyDynamic* implements the main tools required:\n",
    "\n",
    "**Uncertainty propagation for the discrete Fourier transform**\n",
    "```python \n",
    "    GUM_DFT(x,Ux,N=None,window=None,CxCos=None,CxSin=None,returnC=False,mask=None)\n",
    "```\n",
    "\n",
    "**Uncertainty propagation for the inverse discrete Fourier transform**\n",
    "```python\n",
    "    GUM_iDFT(F,UF,Nx=None,Cc=None,Cs=None,returnC=False)\n",
    "```\n",
    "\n",
    "**Uncertainty propagation for convolution in the frequency domain**\n",
    "```python\n",
    "    DFT_multiply(Y, UY, F, UF=None)\n",
    "```\n",
    "\n",
    "**Uncertainty propagation for deconvolution in the frequency domain**\n",
    "```python\n",
    "    DFT_deconv(H, Y, UH, UY)\n",
    "```\n",
    "\n",
    "In the following we discuss common use cases for these methods and present guidance on how to utilize the optional arguments of the above methods."
   ]
  },
  {
   "cell_type": "markdown",
   "metadata": {},
   "source": [
    "## Prerequisites"
   ]
  },
  {
   "cell_type": "markdown",
   "metadata": {},
   "source": [
    "Get started with the notebook by importing some packages:"
   ]
  },
  {
   "cell_type": "code",
   "execution_count": null,
   "metadata": {},
   "outputs": [],
   "source": [
    "# base imports\n",
    "import PyDynamic\n",
    "import numpy\n",
    "import matplotlib\n",
    "import matplotlib.pyplot as plt\n",
    "import scipy\n",
    "\n",
    "# convenience imports\n",
    "from numpy import sin, pi, random, fft, arange, sqrt\n",
    "from matplotlib.pyplot import plot, subplot, figure, errorbar\n",
    "from PyDynamic.uncertainty.propagate_DFT import GUM_DFT, GUM_iDFT, DFT2AmpPhase, DFT_multiply, DFT_deconv\n",
    "\n",
    "# set up matplotlib\n",
    "%matplotlib notebook\n",
    "matplotlib.rc('font', size=12)\n",
    "matplotlib.rc('figure', figsize=(9,5))\n",
    "\n",
    "# small helper function for visualization\n",
    "def get_amplitudes(V):\n",
    "    n = len(V)//2\n",
    "    V_real = V[:n]\n",
    "    V_imag = V[n:]\n",
    "    return numpy.sqrt(V_real**2 + V_imag**2)"
   ]
  },
  {
   "cell_type": "markdown",
   "metadata": {},
   "source": [
    "## 1) Discrete Fourier Transform (DFT)"
   ]
  },
  {
   "cell_type": "markdown",
   "metadata": {},
   "source": [
    "The first and most basic scenario is the application of the discrete Fourier transform to analyse a time domain signal in the frequency domain. "
   ]
  },
  {
   "cell_type": "code",
   "execution_count": null,
   "metadata": {
    "scrolled": false
   },
   "outputs": [],
   "source": [
    "Fs = 100    # sampling frequency in Hz\n",
    "Ts = 1/Fs   # sampling interval in s\n",
    "N  = 1024   # number of samples\n",
    "time = arange(0, N*Ts, Ts)  # time instants\n",
    "noise_std = 0.8    # signal noise standard deviation\n",
    "\n",
    "# time domain signal\n",
    "x = sin(2*pi*Fs/10*time) + sin(2*pi*Fs/5*time) + random.randn(len(time))*noise_std\n",
    "\n",
    "X, UX = GUM_DFT(x, noise_std**2)    # application of DFT with propagation of uncertainties\n",
    "f = fft.rfftfreq(N, Ts)   # frequency values\n",
    "\n",
    "figure()\n",
    "plot(time, x)\n",
    "plt.xlabel(\"time / s\")\n",
    "plt.ylabel(\"signal amplitude / au\");\n",
    "\n",
    "figure()\n",
    "subplot(211)\n",
    "errorbar(f, X[:len(f)], sqrt(UX[:len(f)]))\n",
    "plt.ylabel(\"real part\")\n",
    "plt.xticks([])\n",
    "subplot(212)\n",
    "errorbar(f, X[len(f):], sqrt(UX[len(f):]))\n",
    "plt.ylabel(\"imaginary part\")\n",
    "plt.xlabel(\"frequency / Hz\")\n",
    "plt.subplots_adjust(hspace=0.05)"
   ]
  },
  {
   "cell_type": "markdown",
   "metadata": {},
   "source": [
    "## 2) Inverse Discrete Fourier Transform (iDFT)"
   ]
  },
  {
   "cell_type": "markdown",
   "metadata": {},
   "source": [
    "Let's modify our signal-spectrum `X` a bit and then transform it back to the time-domain. \n",
    "We set the spectrum to zero, where the amplitude is less then a threshold. (This will remove most of the noise we introduced earlier.)"
   ]
  },
  {
   "cell_type": "code",
   "execution_count": null,
   "metadata": {},
   "outputs": [],
   "source": [
    "threshold = 20  # set to 60 to remove most noise, set to 0 to keep all noise\n",
    "\n",
    "# create copy of original spectrum\n",
    "X_modified = numpy.copy(X)\n",
    "UX_modified = numpy.copy(UX)\n",
    "X_modified_real = X_modified[:len(f)]\n",
    "X_modified_imag = X_modified[len(f):]\n",
    "UX_modified_real = UX_modified[:len(f)]\n",
    "UX_modified_imag = UX_modified[len(f):]\n",
    "\n",
    "# calculate amplitudes\n",
    "amplitudes = get_amplitudes(X_modified)\n",
    "\n",
    "# keep only values of X and UX, that have amplitude higher than the threshold\n",
    "below_threshold = amplitudes < threshold  # boolean array for indexing\n",
    "X_modified_real[below_threshold] = 0.0\n",
    "X_modified_imag[below_threshold] = 0.0\n",
    "UX_modified_real[below_threshold] = 0.0\n",
    "UX_modified_imag[below_threshold] = 0.0\n",
    "\n",
    "# transform the filtered \n",
    "x_modified, ux_modified = GUM_iDFT(X_modified, UX_modified)\n",
    "\n",
    "# visualize the modified time-signal\n",
    "figure()\n",
    "plot(time, x, '-k', label='original')\n",
    "errorbar(time, x_modified, numpy.diag(ux_modified), label='modified')\n",
    "plt.xlabel(\"time / s\")\n",
    "plt.ylabel(\"signal amplitude / au\")\n",
    "plt.legend()\n",
    "\n",
    "# visualize the covariance matrix associated with x_modified\n",
    "figure()\n",
    "plt.imshow(ux_modified)\n",
    "plt.colorbar()\n"
   ]
  },
  {
   "cell_type": "markdown",
   "metadata": {},
   "source": [
    "## 3) Multiply Spectra in the Frequency Domain"
   ]
  },
  {
   "cell_type": "markdown",
   "metadata": {},
   "source": [
    "Multiplication in the frequency domain corresponds to a convolution of two signals in the time domain. \n",
    "\n",
    "Let's consider the signal `X` from above. We have already transformed it to the frequecy domain in section 1). We want to apply a lowpass filter `H` that removes the higher of the both dominant frequencies. So we should design a filter such that it has a cutoff frequency around 15Hz. \n",
    "\n",
    "\n",
    "Note: `butter` and `freqs` both require the frequency arguments to be angular frequencies. In favour of readability and without any consequences in our case, this was ommited. "
   ]
  },
  {
   "cell_type": "code",
   "execution_count": null,
   "metadata": {
    "scrolled": false
   },
   "outputs": [],
   "source": [
    "cutoff_frequency = 15\n",
    "b, a = scipy.signal.butter(5, cutoff_frequency, 'low', analog=True)\n",
    "_, H = scipy.signal.freqs(b, a, worN = f)  # get our filter at the same positions as X is already known\n",
    "\n",
    "# bring H into the required shape for DFT_multiply\n",
    "H = numpy.hstack((numpy.real(H), numpy.imag(H)))\n",
    "\n",
    "# apply the lowpass H to X\n",
    "X_low, UX_low = DFT_multiply(X, H, numpy.diag(UX))  # diag-hack necessary, otherwise UX_low is not compatible with GUM_iDFT\n",
    "\n",
    "# visualize the frequency domain\n",
    "figure()\n",
    "plt.plot(f, get_amplitudes(X), label=\"|X|\")\n",
    "plt.plot(f, get_amplitudes(H), label=\"|H|\")\n",
    "plt.plot(f, get_amplitudes(X_low), label=\"|X_low|\")\n",
    "plt.xlabel(\"frequency / Hz\")\n",
    "plt.ylabel(\"Amplitudes\")\n",
    "plt.yscale(\"log\")\n",
    "plt.legend()\n",
    "\n",
    "# visualize the time-domain\n",
    "x_low, ux_low = GUM_iDFT(X_low, UX_low)\n",
    "\n",
    "figure()\n",
    "plot(time, x, label='original')\n",
    "errorbar(time, x_low, numpy.diag(ux_low), label='filtered')\n",
    "plt.xlabel(\"time / s\")\n",
    "plt.ylabel(\"signal amplitude / au\")\n",
    "plt.legend()"
   ]
  },
  {
   "cell_type": "markdown",
   "metadata": {},
   "source": [
    "## 4) Deconvolve Signals by Division of Spectra"
   ]
  },
  {
   "cell_type": "markdown",
   "metadata": {},
   "source": [
    "It could be of interest to remove the effect of a system's transfer function on a signal. This can be achieved in the frequency domain by a simple division of the signal spectrum and the system's transfer function. This corresponds to a deconvolution in the time-domain (a.k.a. convolution with the inverse filter). \n",
    "\n",
    "In our example, let's undo the lowpass operation from the last section. But to make it a bit more interesting, let's assume, we don't know the exact cutoff-frequency but only with an uncertainty of 1Hz. \n",
    "\n",
    "There are two steps:\n",
    "\n",
    "1. Check the influence of the cutoff frequency on the actual frequency spectrum. This is done by a Monte Carlo method. \n",
    "2. Division of both spectra: The reconstructed signal can then be transformed back to the time-domain, where the uncertainties of original and reconstruction are compared. "
   ]
  },
  {
   "cell_type": "code",
   "execution_count": null,
   "metadata": {},
   "outputs": [],
   "source": [
    "estimated_cutoff_frequency = 14.5\n",
    "cutoff_frequency_unc = 1.0\n",
    "\n",
    "# step 1: Monte Carlo\n",
    "mc_runs = 100\n",
    "h_array = numpy.empty((mc_runs, len(f)), dtype=\"complex\")\n",
    "for i in range(mc_runs):\n",
    "    cf = random.normal(estimated_cutoff_frequency, cutoff_frequency_unc)\n",
    "    b, a = scipy.signal.butter(5, cf, 'low', analog=True)\n",
    "    _, H_tmp = scipy.signal.freqs(b, a, worN = f)\n",
    "    h_array[i,:] = H_tmp\n",
    "\n",
    "H_system = numpy.hstack((numpy.mean(numpy.real(h_array), axis=0), numpy.mean(numpy.imag(h_array), axis=0)))\n",
    "UH_system = numpy.hstack((numpy.std(numpy.real(h_array), axis=0), numpy.std(numpy.imag(h_array), axis=0)))\n",
    "\n",
    "# visualize the uncertain lowpass filter\n",
    "a = get_amplitudes(H_system)\n",
    "u = get_amplitudes(UH_system)\n",
    "\n",
    "figure()\n",
    "plot(f, a, \"-b\", label=\"lowpass filter\")\n",
    "plot(f, a + u, \":b\")\n",
    "plot(f, a - u, \":b\")\n",
    "plt.xlabel(\"frequency / Hz\")\n",
    "plt.ylabel(\"Amplitudes\")\n",
    "plt.yscale(\"linear\")\n",
    "plt.legend()"
   ]
  },
  {
   "cell_type": "code",
   "execution_count": null,
   "metadata": {},
   "outputs": [],
   "source": [
    "# step 2\n",
    "X_recon, UX_recon = DFT_deconv(H_system, X_low, UH_system, numpy.diag(UX_low))\n",
    "\n",
    "# visualize the uncertain reconstruction\n",
    "\n",
    "figure()\n",
    "plot(f, get_amplitudes(X), \"-b\", label=\"original\")\n",
    "plot(f, get_amplitudes(X_recon), \":k\", label=\"reconstructed\")\n",
    "plt.xlabel(\"frequency / Hz\")\n",
    "plt.ylabel(\"Amplitudes\")\n",
    "plt.yscale(\"log\")\n",
    "plt.legend()\n",
    "\n",
    "figure()\n",
    "plot(f, get_amplitudes(UX), \"-b\", label=\"original\")\n",
    "plot(f, get_amplitudes(numpy.diag(UX_recon)), \":k\", label=\"reconstructed\")\n",
    "plt.xlabel(\"frequency / Hz\")\n",
    "plt.ylabel(\"Uncertainties of Amplitudes\")\n",
    "plt.yscale(\"log\")\n",
    "plt.legend()"
   ]
  },
  {
   "cell_type": "code",
   "execution_count": null,
   "metadata": {},
   "outputs": [],
   "source": []
  }
 ],
 "metadata": {
  "anaconda-cloud": {},
  "kernelspec": {
   "display_name": "pydynamic_official",
   "language": "python",
   "name": "pydynamic_official"
  },
  "language_info": {
   "codemirror_mode": {
    "name": "ipython",
    "version": 3
   },
   "file_extension": ".py",
   "mimetype": "text/x-python",
   "name": "python",
   "nbconvert_exporter": "python",
   "pygments_lexer": "ipython3",
   "version": "3.8.1"
  }
 },
 "nbformat": 4,
 "nbformat_minor": 1
}
