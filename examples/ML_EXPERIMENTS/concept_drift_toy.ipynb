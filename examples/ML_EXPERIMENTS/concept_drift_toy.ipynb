{
 "cells": [
  {
   "cell_type": "markdown",
   "metadata": {},
   "source": [
    "## TODO:\n",
    "\n",
    "- Implement dummy drift detection (EDDM,DDM,PGT,ADWIN)\n",
    "- Understand their usage and contexts. (e.g gradual vs abrupt)\n",
    "- Update model upon detection\n",
    "- Incorporate synthetic data generators (SEA, ETC)"
   ]
  },
  {
   "cell_type": "code",
   "execution_count": 1,
   "metadata": {},
   "outputs": [
    {
     "name": "stdout",
     "output_type": "stream",
     "text": [
      "DDM Change detected in data: 4 - at index: 1004\n",
      "PAGE-H Change detected in data: 6 - at index: 1008\n",
      "ADWIN Change detected in data: 4 - at index: 1023\n",
      "ADWIN Change detected in data: 4 - at index: 1055\n",
      "ADWIN Change detected in data: 5 - at index: 1087\n",
      "{'eddm': array([], dtype=float64), 'ddm': array([5]), 'page_hinkley': array([9]), 'adwin': array([24, 56, 88])}\n"
     ]
    },
    {
     "name": "stderr",
     "output_type": "stream",
     "text": [
      "C:\\Users\\Administrator\\AppData\\Roaming\\Python\\Python37\\site-packages\\skmultiflow\\drift_detection\\ddm.py:126: RuntimeWarning: invalid value encountered in sqrt\n",
      "  self.miss_std = np.sqrt(self.miss_prob * (1 - self.miss_prob) / float(self.sample_count))\n"
     ]
    }
   ],
   "source": [
    "import numpy as np\n",
    "from skmultiflow.drift_detection.adwin import ADWIN\n",
    "from skmultiflow.drift_detection import DDM\n",
    "from skmultiflow.drift_detection import EDDM\n",
    "from skmultiflow.drift_detection import PageHinkley\n",
    "import copy \n",
    "\n",
    "adwin = ADWIN()\n",
    "ddm = DDM()\n",
    "eddm = EDDM()\n",
    "page_hinkley = PageHinkley()\n",
    "\n",
    "# Simulating a data stream as a normal distribution of 1's and 0's\n",
    "data_stream = np.random.randint(2, size=2000)\n",
    "# Changing the data concept from index 999 to 2000\n",
    "actual_drift_start = 999\n",
    "for i in range(actual_drift_start, 2000):\n",
    "    data_stream[i] = np.random.randint(4, high=8)\n",
    "#       data_stream[i] = 0\n",
    "# Adding stream elements to ADWIN and verifying if drift occurred\n",
    "detect_occur = {'eddm':[],'ddm':[],'page_hinkley':[],'adwin':[]}\n",
    "\n",
    "for i in range(2000):\n",
    "    adwin.add_element(data_stream[i])\n",
    "    eddm.add_element(data_stream[i])\n",
    "    page_hinkley.add_element(data_stream[i])\n",
    "    ddm.add_element(data_stream[i])\n",
    "    if adwin.detected_change():\n",
    "        detect_occur['adwin'].append(i)\n",
    "        print('ADWIN Change detected in data: ' + str(data_stream[i]) + ' - at index: ' + str(i))\n",
    "    if ddm.detected_change():\n",
    "        detect_occur['ddm'].append(i)\n",
    "        print('DDM Change detected in data: ' + str(data_stream[i]) + ' - at index: ' + str(i))\n",
    "    if eddm.detected_change():\n",
    "        detect_occur['eddm'].append(i)\n",
    "        print('EDDM Change detected in data: ' + str(data_stream[i]) + ' - at index: ' + str(i))\n",
    "    if page_hinkley.detected_change():\n",
    "        detect_occur['page_hinkley'].append(i)\n",
    "        print('PAGE-H Change detected in data: ' + str(data_stream[i]) + ' - at index: ' + str(i))\n",
    "#     else:\n",
    "#         drift_occurrence.append(i,0)\n",
    "actual_drift = 999\n",
    "performances= copy.deepcopy(detect_occur)\n",
    "for key in performances.keys():\n",
    "    performances[key] = np.array(detect_occur[key])-actual_drift\n",
    "print(performances)"
   ]
  },
  {
   "cell_type": "code",
   "execution_count": 2,
   "metadata": {},
   "outputs": [
    {
     "data": {
      "image/png": "[encoded data removed]",
      "text/plain": [
       "<Figure size 720x720 with 1 Axes>"
      ]
     },
     "metadata": {
      "needs_background": "light"
     },
     "output_type": "display_data"
    }
   ],
   "source": [
    "import matplotlib.pyplot as plt\n",
    "colors ={'eddm':'r','ddm':'b','adwin':'g','page_hinkley':'black'}\n",
    "plt.figure(figsize=(10,10))\n",
    "plt.plot(np.arange(len(data_stream)),data_stream)\n",
    "for algo in list(detect_occur.keys()):\n",
    "    plt.vlines(detect_occur[algo],ymax=10,ymin=0,color=colors[algo])\n"
   ]
  },
  {
   "cell_type": "code",
   "execution_count": null,
   "metadata": {},
   "outputs": [],
   "source": []
  }
 ],
 "metadata": {
  "kernelspec": {
   "display_name": "Python 3",
   "language": "python",
   "name": "python3"
  },
  "language_info": {
   "codemirror_mode": {
    "name": "ipython",
    "version": 3
   },
   "file_extension": ".py",
   "mimetype": "text/x-python",
   "name": "python",
   "nbconvert_exporter": "python",
   "pygments_lexer": "ipython3",
   "version": "3.7.0"
  }
 },
 "nbformat": 4,
 "nbformat_minor": 2
}
