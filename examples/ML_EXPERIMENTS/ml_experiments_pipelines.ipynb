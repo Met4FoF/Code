{
 "cells": [
  {
   "cell_type": "markdown",
   "metadata": {},
   "source": [
    "# Needs: \n",
    "- record results (and compare) from multiple pipelines\n",
    "- implement new component seamlessly"
   ]
  },
  {
   "cell_type": "code",
   "execution_count": 2,
   "metadata": {},
   "outputs": [
    {
     "name": "stdout",
     "output_type": "stream",
     "text": [
      "Requirement already satisfied: mlflow in /home/bangxiang93/.local/lib/python3.7/site-packages (1.4.0)\n",
      "Requirement already satisfied: six>=1.10.0 in /home/bangxiang93/miniconda3/lib/python3.7/site-packages (from mlflow) (1.12.0)\n",
      "Requirement already satisfied: gitpython>=2.1.0 in /home/bangxiang93/.local/lib/python3.7/site-packages (from mlflow) (3.0.4)\n",
      "Requirement already satisfied: cloudpickle in /home/bangxiang93/.local/lib/python3.7/site-packages (from mlflow) (1.2.2)\n",
      "Requirement already satisfied: click>=7.0 in /home/bangxiang93/.local/lib/python3.7/site-packages (from mlflow) (7.0)\n",
      "Requirement already satisfied: python-dateutil in /home/bangxiang93/miniconda3/lib/python3.7/site-packages (from mlflow) (2.8.0)\n",
      "Requirement already satisfied: requests>=2.17.3 in /home/bangxiang93/miniconda3/lib/python3.7/site-packages (from mlflow) (2.22.0)\n",
      "Requirement already satisfied: protobuf>=3.6.0 in /home/bangxiang93/miniconda3/lib/python3.7/site-packages (from mlflow) (3.10.0)\n",
      "Requirement already satisfied: simplejson in /home/bangxiang93/miniconda3/lib/python3.7/site-packages (from mlflow) (3.16.0)\n",
      "Requirement already satisfied: sqlalchemy in /home/bangxiang93/.local/lib/python3.7/site-packages (from mlflow) (1.3.10)\n",
      "Requirement already satisfied: gunicorn; platform_system != \"Windows\" in /home/bangxiang93/.local/lib/python3.7/site-packages (from mlflow) (19.9.0)\n",
      "Requirement already satisfied: docker>=4.0.0 in /home/bangxiang93/.local/lib/python3.7/site-packages (from mlflow) (4.1.0)\n",
      "Requirement already satisfied: sqlparse in /home/bangxiang93/.local/lib/python3.7/site-packages (from mlflow) (0.3.0)\n",
      "Requirement already satisfied: alembic in /home/bangxiang93/.local/lib/python3.7/site-packages (from mlflow) (1.3.0)\n",
      "Requirement already satisfied: gorilla in /home/bangxiang93/.local/lib/python3.7/site-packages (from mlflow) (0.3.0)\n",
      "Requirement already satisfied: databricks-cli>=0.8.7 in /home/bangxiang93/.local/lib/python3.7/site-packages (from mlflow) (0.9.1)\n",
      "Requirement already satisfied: querystring-parser in /home/bangxiang93/.local/lib/python3.7/site-packages (from mlflow) (1.2.4)\n",
      "Requirement already satisfied: entrypoints in /home/bangxiang93/miniconda3/lib/python3.7/site-packages (from mlflow) (0.3)\n",
      "Requirement already satisfied: Flask in /home/bangxiang93/.local/lib/python3.7/site-packages (from mlflow) (1.1.1)\n",
      "Requirement already satisfied: pandas in /home/bangxiang93/.local/lib/python3.7/site-packages (from mlflow) (0.25.3)\n",
      "Requirement already satisfied: pyyaml in /home/bangxiang93/miniconda3/lib/python3.7/site-packages (from mlflow) (5.1.2)\n",
      "Requirement already satisfied: numpy in /home/bangxiang93/.local/lib/python3.7/site-packages (from mlflow) (1.17.3)\n",
      "Requirement already satisfied: gitdb2>=2.0.0 in /home/bangxiang93/.local/lib/python3.7/site-packages (from gitpython>=2.1.0->mlflow) (2.0.6)\n",
      "Requirement already satisfied: chardet<3.1.0,>=3.0.2 in /home/bangxiang93/miniconda3/lib/python3.7/site-packages (from requests>=2.17.3->mlflow) (3.0.4)\n",
      "Requirement already satisfied: idna<2.9,>=2.5 in /home/bangxiang93/miniconda3/lib/python3.7/site-packages (from requests>=2.17.3->mlflow) (2.8)\n",
      "Requirement already satisfied: urllib3!=1.25.0,!=1.25.1,<1.26,>=1.21.1 in /home/bangxiang93/miniconda3/lib/python3.7/site-packages (from requests>=2.17.3->mlflow) (1.24.2)\n",
      "Requirement already satisfied: certifi>=2017.4.17 in /home/bangxiang93/miniconda3/lib/python3.7/site-packages (from requests>=2.17.3->mlflow) (2019.6.16)\n",
      "Requirement already satisfied: setuptools in /home/bangxiang93/miniconda3/lib/python3.7/site-packages (from protobuf>=3.6.0->mlflow) (41.0.1)\n",
      "Requirement already satisfied: websocket-client>=0.32.0 in /home/bangxiang93/.local/lib/python3.7/site-packages (from docker>=4.0.0->mlflow) (0.56.0)\n",
      "Requirement already satisfied: python-editor>=0.3 in /home/bangxiang93/.local/lib/python3.7/site-packages (from alembic->mlflow) (1.0.4)\n",
      "Requirement already satisfied: Mako in /home/bangxiang93/miniconda3/lib/python3.7/site-packages (from alembic->mlflow) (1.1.0)\n",
      "Requirement already satisfied: tabulate>=0.7.7 in /home/bangxiang93/.local/lib/python3.7/site-packages (from databricks-cli>=0.8.7->mlflow) (0.8.5)\n",
      "Requirement already satisfied: configparser>=0.3.5 in /home/bangxiang93/.local/lib/python3.7/site-packages (from databricks-cli>=0.8.7->mlflow) (4.0.2)\n",
      "Requirement already satisfied: Werkzeug>=0.15 in /home/bangxiang93/.local/lib/python3.7/site-packages (from Flask->mlflow) (0.16.0)\n",
      "Requirement already satisfied: itsdangerous>=0.24 in /home/bangxiang93/.local/lib/python3.7/site-packages (from Flask->mlflow) (1.1.0)\n",
      "Requirement already satisfied: Jinja2>=2.10.1 in /home/bangxiang93/.local/lib/python3.7/site-packages (from Flask->mlflow) (2.10.3)\n",
      "Requirement already satisfied: pytz>=2017.2 in /home/bangxiang93/miniconda3/lib/python3.7/site-packages (from pandas->mlflow) (2019.2)\n",
      "Requirement already satisfied: smmap2>=2.0.0 in /home/bangxiang93/.local/lib/python3.7/site-packages (from gitdb2>=2.0.0->gitpython>=2.1.0->mlflow) (2.0.5)\n",
      "Requirement already satisfied: MarkupSafe>=0.9.2 in /home/bangxiang93/miniconda3/lib/python3.7/site-packages (from Mako->alembic->mlflow) (1.1.1)\n"
     ]
    }
   ],
   "source": [
    "!pip install mlflow"
   ]
  },
  {
   "cell_type": "code",
   "execution_count": 3,
   "metadata": {},
   "outputs": [
    {
     "name": "stdout",
     "output_type": "stream",
     "text": [
      "Elasticnet model (alpha=0.150000, l1_ratio=0.300000):\n",
      "  RMSE: 0.7322681693148748\n",
      "  MAE: 0.5630381252640116\n",
      "  R2: 0.2402441687623419\n"
     ]
    }
   ],
   "source": [
    "# The data set used in this example is from http://archive.ics.uci.edu/ml/datasets/Wine+Quality\n",
    "# P. Cortez, A. Cerdeira, F. Almeida, T. Matos and J. Reis.\n",
    "# Modeling wine preferences by data mining from physicochemical properties. In Decision Support Systems, Elsevier, 47(4):547-553, 2009.\n",
    "\n",
    "import os\n",
    "import warnings\n",
    "import sys\n",
    "\n",
    "import pandas as pd\n",
    "import numpy as np\n",
    "from sklearn.metrics import mean_squared_error, mean_absolute_error, r2_score\n",
    "from sklearn.model_selection import train_test_split\n",
    "from sklearn.linear_model import ElasticNet\n",
    "\n",
    "import mlflow\n",
    "import mlflow.sklearn\n",
    "\n",
    "import logging\n",
    "logging.basicConfig(level=logging.WARN)\n",
    "logger = logging.getLogger(__name__)\n",
    "\n",
    "\n",
    "def eval_metrics(actual, pred):\n",
    "    rmse = np.sqrt(mean_squared_error(actual, pred))\n",
    "    mae = mean_absolute_error(actual, pred)\n",
    "    r2 = r2_score(actual, pred)\n",
    "    return rmse, mae, r2\n",
    "\n",
    "\n",
    "\n",
    "if __name__ == \"__main__\":\n",
    "    warnings.filterwarnings(\"ignore\")\n",
    "    np.random.seed(40)\n",
    "\n",
    "    # Read the wine-quality csv file from the URL\n",
    "    csv_url =\\\n",
    "        'http://archive.ics.uci.edu/ml/machine-learning-databases/wine-quality/winequality-red.csv'\n",
    "    try:\n",
    "        data = pd.read_csv(csv_url, sep=';')\n",
    "    except Exception as e:\n",
    "        logger.exception(\n",
    "            \"Unable to download training & test CSV, check your internet connection. Error: %s\", e)\n",
    "\n",
    "    # Split the data into training and test sets. (0.75, 0.25) split.\n",
    "    train, test = train_test_split(data)\n",
    "\n",
    "    # The predicted column is \"quality\" which is a scalar from [3, 9]\n",
    "    train_x = train.drop([\"quality\"], axis=1)\n",
    "    test_x = test.drop([\"quality\"], axis=1)\n",
    "    train_y = train[[\"quality\"]]\n",
    "    test_y = test[[\"quality\"]]\n",
    "\n",
    "    alpha =  0.15\n",
    "    l1_ratio =  0.3\n",
    "\n",
    "    with mlflow.start_run():\n",
    "        lr = ElasticNet(alpha=alpha, l1_ratio=l1_ratio, random_state=42)\n",
    "        lr.fit(train_x, train_y)\n",
    "\n",
    "        predicted_qualities = lr.predict(test_x)\n",
    "\n",
    "        (rmse, mae, r2) = eval_metrics(test_y, predicted_qualities)\n",
    "\n",
    "        print(\"Elasticnet model (alpha=%f, l1_ratio=%f):\" % (alpha, l1_ratio))\n",
    "        print(\"  RMSE: %s\" % rmse)\n",
    "        print(\"  MAE: %s\" % mae)\n",
    "        print(\"  R2: %s\" % r2)\n",
    "\n",
    "        mlflow.log_param(\"alpha\", alpha)\n",
    "        mlflow.log_param(\"l1_ratio\", l1_ratio)\n",
    "        mlflow.log_metric(\"rmse\", rmse)\n",
    "        mlflow.log_metric(\"r2\", r2)\n",
    "        mlflow.log_metric(\"mae\", mae)\n",
    "\n",
    "        mlflow.sklearn.log_model(lr, \"model\")"
   ]
  },
  {
   "cell_type": "code",
   "execution_count": 16,
   "metadata": {},
   "outputs": [
    {
     "data": {
      "image/png": "[encoded data removed]",
      "text/plain": [
       "<Figure size 432x288 with 1 Axes>"
      ]
     },
     "metadata": {
      "needs_background": "light"
     },
     "output_type": "display_data"
    }
   ],
   "source": [
    "import matplotlib.pyplot as plt\n",
    "import numpy as np\n",
    "\n",
    "params = [\"ANN\",\"CNN\",\"LDA\"]\n",
    "metrics = [param+\"_mse\" for param in params]\n",
    "\n",
    "\n",
    "with mlflow.start_run():\n",
    "    mlflow.log_param(\"type\",str(params))\n",
    "    for param_id, param in enumerate(params):\n",
    "        mlflow.log_metric(key=metrics[param_id],value=float(np.random.randn(1)))\n",
    "        mlflow.set_tag(\"TYPE\", \"ANN\")\n",
    "        \n",
    "    fig = plt.figure()\n",
    "    plt.plot([1,2,3,4,5,6])\n",
    "    filename = \"hello.png\"\n",
    "    fig.savefig(filename)\n",
    "    mlflow.log_artifact(filename,\"PERF\")"
   ]
  },
  {
   "cell_type": "code",
   "execution_count": null,
   "metadata": {},
   "outputs": [],
   "source": []
  }
 ],
 "metadata": {
  "kernelspec": {
   "display_name": "Python 3",
   "language": "python",
   "name": "python3"
  },
  "language_info": {
   "codemirror_mode": {
    "name": "ipython",
    "version": 3
   },
   "file_extension": ".py",
   "mimetype": "text/x-python",
   "name": "python",
   "nbconvert_exporter": "python",
   "pygments_lexer": "ipython3",
   "version": "3.7.3"
  }
 },
 "nbformat": 4,
 "nbformat_minor": 2
}
