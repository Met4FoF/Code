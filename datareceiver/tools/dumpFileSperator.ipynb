{
 "cells": [
  {
   "cell_type": "code",
   "execution_count": 15,
   "metadata": {},
   "outputs": [],
   "source": [
    "import pandas as pd\n",
    "import json as json\n",
    "import csv"
   ]
  },
  {
   "cell_type": "code",
   "execution_count": 16,
   "metadata": {},
   "outputs": [],
   "source": [
    "dumpfilename=r\"/home/seeger01/Downloads/Met4FOF_mpu9250_Z_Acc_10_hz_250_hz_6rep.dump\"\n",
    "df=pd.read_csv(dumpfilename,delimiter=';',skiprows=[0])\n",
    "reader = csv.reader(open(dumpfilename), delimiter=\";\")\n",
    "fristrow=next(reader)\n",
    "paramsdictjson=json.loads(fristrow[0])"
   ]
  },
  {
   "cell_type": "code",
   "execution_count": 17,
   "metadata": {},
   "outputs": [],
   "source": [
    "namelist=df.columns.values.tolist()\n",
    "SensorDataNames=namelist[:-6]\n",
    "ADCDataNames=namelist[:-16]\n",
    "ADCDataNames.append(namelist[-6])\n",
    "ADCDataNames.append(namelist[-5])\n",
    "ADCDataNames.append(namelist[-4])"
   ]
  },
  {
   "cell_type": "code",
   "execution_count": 18,
   "metadata": {},
   "outputs": [],
   "source": [
    "#\tbool setADCCalCoevs(uint8_t ADCNumber,float slope,float xAxisCrossPoint,float RMSNoise);\n",
    "#\tconfigMan.setADCCalCoevs(0, 0.00488040211169927, -10.029208660668372,\n",
    "#\t\t\t4.6824163159348675e-3);\n",
    "#\tconfigMan.setADCCalCoevs(1, 0.004864769104581888, -9.911472983085314,\n",
    "#\t\t\t13.68572038605262e-3);\n",
    "#\tconfigMan.setADCCalCoevs(2, 0.004884955868836948, -10.031544601902738,\n",
    "#\t\t\t4.721804326558252e-3);\n",
    "ADCDecsriptionDict={'Name': 'STM32F767 ADC',\n",
    " '1': {'CHID': 1,\n",
    "  'PHYSICAL_QUANTITY': 'ADC 1 Voltage',\n",
    "  'UNIT': '\\\\volt',\n",
    "  'RESOLUTION': 4096.0,\n",
    "  'MIN_SCALE': -10.029208660668372-0*0.00488040211169927,\n",
    "  'MAX_SCALE': -10.029208660668372+4096*0.00488040211169927,},\n",
    " '2': {'CHID': 2,\n",
    "  'PHYSICAL_QUANTITY': 'ADC 2 Voltage',\n",
    "  'UNIT': '\\\\metre\\\\second\\\\tothe{-2}',\n",
    "  'RESOLUTION': 4096.0,\n",
    "  'MIN_SCALE': -9.911472983085314-0*0.004864769104581888,\n",
    "  'MAX_SCALE': -9.911472983085314+4096*0.004864769104581888},\n",
    " '3': {'CHID': 3,\n",
    "  'PHYSICAL_QUANTITY': 'ADC 3 Voltage',\n",
    "  'UNIT': '\\\\metre\\\\second\\\\tothe{-2}',\n",
    "  'RESOLUTION': 4096.0,\n",
    "  'MIN_SCALE': -10.031544601902738-0*0.004884955868836948,\n",
    "  'MAX_SCALE': -10.031544601902738+4096*0.004884955868836948}}"
   ]
  },
  {
   "cell_type": "code",
   "execution_count": 19,
   "metadata": {},
   "outputs": [
    {
     "name": "stderr",
     "output_type": "stream",
     "text": [
      "/home/seeger01/anaconda3/lib/python3.7/site-packages/ipykernel_launcher.py:11: SettingWithCopyWarning: \n",
      "A value is trying to be set on a copy of a slice from a DataFrame.\n",
      "Try using .loc[row_indexer,col_indexer] = value instead\n",
      "\n",
      "See the caveats in the documentation: http://pandas.pydata.org/pandas-docs/stable/indexing.html#indexing-view-versus-copy\n",
      "  # This is added back by InteractiveShellApp.init_path()\n"
     ]
    }
   ],
   "source": [
    "ADCDataFileName=dumpfilename.replace('.dump','_ADC.dump')\n",
    "ADCSensorIDOffset=128*256\n",
    "ADCDataFile= open(ADCDataFileName, mode=\"a\")\n",
    "ADCDataFile.write(json.dumps(ADCDecsriptionDict))\n",
    "ADCDataFile.write(\"\\n\")\n",
    "ADCDataFile.write(\n",
    "            \"id;sample_number;unix_time;unix_time_nsecs;time_uncertainty;Data_01;Data_02;Data_03\\n\"\n",
    "        )\n",
    "ADCDataFile.close()\n",
    "ADCData=df[ADCDataNames]\n",
    "ADCData['id']=ADCData['id']+ADCSensorIDOffset\n",
    "ADCData.to_csv(ADCDataFileName,header=False,index=False,sep=';', mode='a')"
   ]
  },
  {
   "cell_type": "code",
   "execution_count": 20,
   "metadata": {},
   "outputs": [],
   "source": [
    "SensorDataFileName=dumpfilename.replace('.dump','_Sensor.dump')\n",
    "SensorDataFile= open(SensorDataFileName, mode=\"a\")\n",
    "SensorDataFile.write(json.dumps(paramsdictjson))\n",
    "SensorDataFile.write(\"\\n\")\n",
    "SensorDataFile.write(\n",
    "            \"id;sample_number;unix_time;unix_time_nsecs;time_uncertainty;Data_01;Data_02;Data_03;Data_04;Data_05;Data_06;Data_07;Data_08;Data_09;Data_10\\n\"\n",
    "        )\n",
    "SensorDataFile.close()\n",
    "SensorData=df[SensorDataNames]\n",
    "SensorData.to_csv(SensorDataFileName,header=False,index=False,sep=';', mode='a')"
   ]
  },
  {
   "cell_type": "code",
   "execution_count": 5,
   "metadata": {},
   "outputs": [
    {
     "ename": "NameError",
     "evalue": "name 'AdCDataNames' is not defined",
     "output_type": "error",
     "traceback": [
      "\u001b[1;31m---------------------------------------------------------------------------\u001b[0m",
      "\u001b[1;31mNameError\u001b[0m                                 Traceback (most recent call last)",
      "\u001b[1;32m<ipython-input-5-a6daed151063>\u001b[0m in \u001b[0;36m<module>\u001b[1;34m\u001b[0m\n\u001b[1;32m----> 1\u001b[1;33m \u001b[0mADCData\u001b[0m\u001b[1;33m=\u001b[0m\u001b[0mdf\u001b[0m\u001b[1;33m[\u001b[0m\u001b[0mAdCDataNames\u001b[0m\u001b[1;33m]\u001b[0m\u001b[1;33m\u001b[0m\u001b[1;33m\u001b[0m\u001b[0m\n\u001b[0m",
      "\u001b[1;31mNameError\u001b[0m: name 'AdCDataNames' is not defined"
     ]
    }
   ],
   "source": []
  },
  {
   "cell_type": "code",
   "execution_count": null,
   "metadata": {},
   "outputs": [],
   "source": []
  }
 ],
 "metadata": {
  "kernelspec": {
   "display_name": "Python 3",
   "language": "python",
   "name": "python3"
  },
  "language_info": {
   "codemirror_mode": {
    "name": "ipython",
    "version": 3
   },
   "file_extension": ".py",
   "mimetype": "text/x-python",
   "name": "python",
   "nbconvert_exporter": "python",
   "pygments_lexer": "ipython3",
   "version": "3.7.3"
  }
 },
 "nbformat": 4,
 "nbformat_minor": 2
}
