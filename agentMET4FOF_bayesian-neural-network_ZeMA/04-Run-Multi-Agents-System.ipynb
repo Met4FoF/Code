{
 "cells": [
  {
   "cell_type": "markdown",
   "metadata": {},
   "source": [
    "# Run Multi Agent System\n",
    "\n",
    "We initialize the data source and create the agent network, once the agents are fully up and running, run the dashboard code in a separate terminal to visualize the agents.\n"
   ]
  },
  {
   "cell_type": "code",
   "execution_count": null,
   "metadata": {},
   "outputs": [],
   "source": [
    "import osbrain\n",
    "from osbrain.agent import run_agent\n",
    "from osbrain.agent import Agent\n",
    "\n",
    "import pandas as pd\n",
    "from datetime import datetime\n",
    "\n",
    "import time\n",
    "\n",
    "import pickle\n",
    "import numpy as np\n",
    "import random\n",
    "from copy import copy\n",
    "\n",
    "from .Agent_models.agents import Sensor, Aggregator, Predictor, DecisionMaker, SensorNetwork\n",
    "\n",
    "# TYPES OF AGENT\n",
    "# 0 - SENSOR NETWORK\n",
    "# 1 - SENSOR\n",
    "# 2 - AGGREGATOR\n",
    "# 3 - PREDICTOR\n",
    "# 4 - DECISIONMAKER"
   ]
  },
  {
   "cell_type": "code",
   "execution_count": null,
   "metadata": {},
   "outputs": [],
   "source": [
    "DemoMode= True\n",
    "pickle_path = \"pickles/\"\n",
    "data_input = pickle.load(open(pickle_path + \"data_input_data_1Hz_full.p\", \"rb\"))\n",
    "data_output = pickle.load(open(pickle_path + \"zema_outputs.p\", \"rb\"))\n",
    "\n",
    "X_data = data_input\n",
    "Y_data = data_output\n",
    "randomShuffling = True\n",
    "\n",
    "if (randomShuffling == True):\n",
    "    index_list = np.arange(X_data.shape[0])\n",
    "    random.shuffle(index_list)\n",
    "    Y_data = Y_data[index_list, :]\n",
    "    X_data = X_data[index_list, :, :]"
   ]
  },
  {
   "cell_type": "markdown",
   "metadata": {},
   "source": [
    "## Starting server"
   ]
  },
  {
   "cell_type": "code",
   "execution_count": null,
   "metadata": {},
   "outputs": [],
   "source": [
    "\n",
    "ns = osbrain.nameserver.run_nameserver(addr='127.0.0.1:14065')"
   ]
  },
  {
   "cell_type": "markdown",
   "metadata": {},
   "source": [
    "## Creating Agent\n",
    "\n",
    "We firstly create a SensorNetwork Agent which enable wrapper functions and manages agents\n"
   ]
  },
  {
   "cell_type": "code",
   "execution_count": null,
   "metadata": {},
   "outputs": [],
   "source": [
    "sensor_network = run_agent('sensor_network', base=SensorNetwork)\n"
   ]
  },
  {
   "cell_type": "markdown",
   "metadata": {},
   "source": [
    "## Sensor Agents\n",
    "\n",
    "1. Next, we create a Sensor Agent by `sensor_network.addsimsensor(type,unit)`, and store into a list `sensors`. \n",
    "2. We set the data source of the Sensor Agent : `sensor_new.set_generatorDataSet(dataSet)` where dataSet is a 3-dimensional numpy array with: [Row x Sequence Length x Sensor]"
   ]
  },
  {
   "cell_type": "code",
   "execution_count": null,
   "metadata": {},
   "outputs": [],
   "source": [
    "#add sensors\n",
    "sensors=[]\n",
    "sensorTypes = [\"Temperature\",\"Temperature\",\"Temperature\",\"Temperature\",\"Vibration\",\"EfficiencyFactor\",\"VolumeFlow\",\"VolumeFlow\",\"Pressure\",\"Pressure\",\"Pressure\",\"Pressure\",\"Pressure\",\"Pressure\",\"MotorPower\",\"CoolingEfficiency\",\"CoolingPower\"]\n",
    "sensorUnits = [\"C\",\"C\",\"C\",\"C\",\"mm/s\",\"%\",\"l/min\",\"l/min\",\"bar\",\"bar\",\"bar\",\"bar\",\"bar\",\"bar\",\"W\",\"%\",\"kW\"]\n",
    "\n",
    "for sensor_num in range(X_data.shape[2]):\n",
    "    sensor_new = sensor_network.add_simsensor(type=sensorTypes[sensor_num], unit_v=sensorUnits[sensor_num])\n",
    "    sensor_new.set_generatorDataSet(X_data[:,:,sensor_num])\n",
    "    sensors.append(sensor_new)\n",
    "\n"
   ]
  },
  {
   "cell_type": "markdown",
   "metadata": {},
   "source": [
    "1. We can access the Sensor Agents stored in array `sensors` .\n",
    "2. Alternatively, the SensorNetwork Agent automatically keeps track of sensors added by it, we can access the list by calling `get_attr('sensor_list')`\n",
    "3. Here, we demonstrate a function of Sensor Agent which is `read_generator` which returns a random data row from the loaded dataset "
   ]
  },
  {
   "cell_type": "code",
   "execution_count": null,
   "metadata": {},
   "outputs": [],
   "source": [
    "#the sensors are loaded into array sensors\n",
    "sensor1 = sensors[0]\n",
    "print(len(sensors))\n",
    "\n",
    "#access sensors by either way\n",
    "sensor_network.get_attr('sensor_list')[0].read_generator()\n",
    "sensor1.read_generator()"
   ]
  },
  {
   "cell_type": "markdown",
   "metadata": {},
   "source": [
    "## Aggregator Agents\n",
    "\n",
    "1. We add an Aggregator Agent to the `sensor_network` by calling the function `.add_aggregator(sensorList)` where `sensorList` is an optional list of Sensor Agents which automatically binds the aggregator to the Sensor Agents. \n",
    "\n",
    "2. Aggregator Agent can bind to Sensor Agent in runtime by calling `.bind_sensors(sensorList)`. \n"
   ]
  },
  {
   "cell_type": "code",
   "execution_count": null,
   "metadata": {},
   "outputs": [],
   "source": [
    "#add aggregators and bind them to sensors\n",
    "aggregator1 = sensor_network.add_aggregator(sensors)\n"
   ]
  },
  {
   "cell_type": "markdown",
   "metadata": {},
   "source": [
    "## Predictor Agents\n",
    "\n",
    "1. Similarly, we can add Predictor Agent by `.add_predictor(aggregator)` with the optional `aggregator` to be binded to.\n",
    "2. For each Predictor Agent, we load the prediction model by `.load_predictor_model(model)` where `model` is a trained ML_Wrapper with signature such as `.predict_model_wUnc(x_test,num_samples)` where `x_test` is the data input and `num_samples` is the number of samples for Monte Carlo sampling.\n",
    "3. Here, we load the previously pickled prediction model."
   ]
  },
  {
   "cell_type": "code",
   "execution_count": null,
   "metadata": {},
   "outputs": [],
   "source": [
    "#add predictor and bind to aggregator\n",
    "predictor1 = sensor_network.add_predictor(aggregator=aggregator1)\n",
    "predictor2 = sensor_network.add_predictor(aggregator=aggregator1)\n",
    "predictor3 = sensor_network.add_predictor(aggregator=aggregator1)\n",
    "predictor4 = sensor_network.add_predictor(aggregator=aggregator1)\n",
    "predictor5 = sensor_network.add_predictor(aggregator=aggregator1)\n",
    "\n",
    "#load predictor models\n",
    "predictor1.load_predictor_model(pickle.load(open(\"pickles/\" + \"bnn_wrapper_0.p\", \"rb\")))\n",
    "predictor2.load_predictor_model(pickle.load(open(\"pickles/\" + \"bnn_wrapper_1.p\", \"rb\")))\n",
    "predictor3.load_predictor_model(pickle.load(open(\"pickles/\" + \"bnn_wrapper_2.p\", \"rb\")))\n",
    "predictor4.load_predictor_model(pickle.load(open(\"pickles/\" + \"bnn_wrapper_3.p\", \"rb\")))\n",
    "predictor5.load_predictor_model(pickle.load(open(\"pickles/\" + \"bnn_wrapper_4.p\", \"rb\")))\n"
   ]
  },
  {
   "cell_type": "markdown",
   "metadata": {},
   "source": [
    "## DecisionMaker Agent\n",
    "1. We add Decision Maker Agent calling `.add_decisionMaker()` on SensorNetwork agent\n",
    "2. The DM Agent is binded to every predictor by calling `.bind_predictor(predictor)` function"
   ]
  },
  {
   "cell_type": "code",
   "execution_count": null,
   "metadata": {},
   "outputs": [],
   "source": [
    "decisionMaker = sensor_network.add_decisionMaker()\n",
    "decisionMaker.bind_predictor(predictor1)\n",
    "decisionMaker.bind_predictor(predictor2)\n",
    "decisionMaker.bind_predictor(predictor3)\n",
    "decisionMaker.bind_predictor(predictor4)\n",
    "decisionMaker.bind_predictor(predictor5)\n"
   ]
  },
  {
   "cell_type": "markdown",
   "metadata": {},
   "source": [
    "## Demo\n",
    "1. For demo, we run an infinite loop which continuously runs the `.request_sensors_data()`\n",
    "2. Due to the bindings, the requested data will immediately be propagated to all binded Predictor Agents and to Decision Maker Agent\n",
    "3. While this is running, run the dashboard code in a separate terminal to visualize the multi-agent testbed"
   ]
  },
  {
   "cell_type": "code",
   "execution_count": null,
   "metadata": {},
   "outputs": [],
   "source": [
    "#send request to aggregator agents for data from sensors\n",
    "\n",
    "if DemoMode:\n",
    "    for i in range(99999999999):\n",
    "        aggregator1.request_sensors_data()\n",
    "        time.sleep(3)\n"
   ]
  },
  {
   "cell_type": "code",
   "execution_count": null,
   "metadata": {},
   "outputs": [],
   "source": []
  }
 ],
 "metadata": {
  "kernelspec": {
   "display_name": "Python 3",
   "language": "python",
   "name": "python3"
  },
  "language_info": {
   "codemirror_mode": {
    "name": "ipython",
    "version": 3
   },
   "file_extension": ".py",
   "mimetype": "text/x-python",
   "name": "python",
   "nbconvert_exporter": "python",
   "pygments_lexer": "ipython3",
   "version": "3.6.5"
  }
 },
 "nbformat": 4,
 "nbformat_minor": 2
}
