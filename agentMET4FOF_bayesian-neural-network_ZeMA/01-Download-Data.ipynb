{
 "cells": [
  {
   "cell_type": "markdown",
   "metadata": {},
   "source": [
    "# Download data\n",
    "Firstly we download data for condition monitoring from zenodo at https://doi.org/10.5281/zenodo.1323611"
   ]
  },
  {
   "cell_type": "code",
   "execution_count": 1,
   "metadata": {},
   "outputs": [],
   "source": [
    "data_url='https://zenodo.org/record/1323611/files/data.zip?download=1'\n",
    "\n"
   ]
  },
  {
   "cell_type": "code",
   "execution_count": 2,
   "metadata": {},
   "outputs": [],
   "source": [
    "import os, requests, zipfile, io\n",
    "\n",
    "def download_and_extract(url, destination, force=False):\n",
    "    response = requests.get(url)\n",
    "    zipDocument = zipfile.ZipFile(io.BytesIO(response.content))\n",
    "    # Attempt to see if we are going to overwrite anything\n",
    "    if not force:\n",
    "        abort = False\n",
    "        for file in zipDocument.filelist:\n",
    "            if os.path.isfile(os.path.join(destination, file.filename)):\n",
    "                print(file.filename, 'already exists. If you want to overwrite the file call the method with force=True')\n",
    "                abort = True\n",
    "        if abort:\n",
    "            print('Zip file was not extracted')\n",
    "            return\n",
    "        \n",
    "    zipDocument.extractall(destination)"
   ]
  },
  {
   "cell_type": "code",
   "execution_count": 3,
   "metadata": {},
   "outputs": [],
   "source": [
    "download_and_extract(data_url, 'Dataset/ZEMA_Hydraulic/')"
   ]
  },
  {
   "cell_type": "code",
   "execution_count": null,
   "metadata": {},
   "outputs": [],
   "source": []
  }
 ],
 "metadata": {
  "kernelspec": {
   "display_name": "Python 3",
   "language": "python",
   "name": "python3"
  },
  "language_info": {
   "codemirror_mode": {
    "name": "ipython",
    "version": 3
   },
   "file_extension": ".py",
   "mimetype": "text/x-python",
   "name": "python",
   "nbconvert_exporter": "python",
   "pygments_lexer": "ipython3",
   "version": "3.6.5"
  }
 },
 "nbformat": 4,
 "nbformat_minor": 2
}
