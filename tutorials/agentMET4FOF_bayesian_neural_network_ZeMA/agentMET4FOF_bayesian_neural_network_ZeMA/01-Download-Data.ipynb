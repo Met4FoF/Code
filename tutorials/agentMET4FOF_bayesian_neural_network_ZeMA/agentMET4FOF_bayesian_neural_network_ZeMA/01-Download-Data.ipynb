{
 "cells": [
  {
   "cell_type": "markdown",
   "metadata": {},
   "source": [
    "# Download data\n",
    "Firstly we download data for condition monitoring from zenodo at https://doi.org/10.5281/zenodo.1323611"
   ]
  },
  {
   "cell_type": "code",
   "execution_count": 10,
   "metadata": {},
   "outputs": [],
   "source": [
    "data_url='https://zenodo.org/record/1323611/files/data.zip?download=1'\n",
    "\n"
   ]
  },
  {
   "cell_type": "code",
   "execution_count": 11,
   "metadata": {},
   "outputs": [],
   "source": [
    "import os, requests, zipfile, io\n",
    "\n",
    "def download_and_extract(url, destination, force=False):\n",
    "    response = requests.get(url)\n",
    "    zipDocument = zipfile.ZipFile(io.BytesIO(response.content))\n",
    "    # Attempt to see if we are going to overwrite anything\n",
    "    if not force:\n",
    "        abort = False\n",
    "        for file in zipDocument.filelist:\n",
    "            if os.path.isfile(os.path.join(destination, file.filename)):\n",
    "                print(file.filename, 'already exists. If you want to overwrite the file call the method with force=True')\n",
    "                abort = True\n",
    "        if abort:\n",
    "            print('Zip file was not extracted')\n",
    "            return\n",
    "        \n",
    "    zipDocument.extractall(destination)"
   ]
  },
  {
   "cell_type": "code",
   "execution_count": 12,
   "metadata": {},
   "outputs": [
    {
     "name": "stdout",
     "output_type": "stream",
     "text": [
      "CE.txt already exists. If you want to overwrite the file call the method with force=True\n",
      "CP.txt already exists. If you want to overwrite the file call the method with force=True\n",
      "description.txt already exists. If you want to overwrite the file call the method with force=True\n",
      "EPS1.txt already exists. If you want to overwrite the file call the method with force=True\n",
      "FS1.txt already exists. If you want to overwrite the file call the method with force=True\n",
      "FS2.txt already exists. If you want to overwrite the file call the method with force=True\n",
      "profile.txt already exists. If you want to overwrite the file call the method with force=True\n",
      "PS1.txt already exists. If you want to overwrite the file call the method with force=True\n",
      "PS2.txt already exists. If you want to overwrite the file call the method with force=True\n",
      "PS3.txt already exists. If you want to overwrite the file call the method with force=True\n",
      "PS4.txt already exists. If you want to overwrite the file call the method with force=True\n",
      "PS5.txt already exists. If you want to overwrite the file call the method with force=True\n",
      "PS6.txt already exists. If you want to overwrite the file call the method with force=True\n",
      "SE.txt already exists. If you want to overwrite the file call the method with force=True\n",
      "TS1.txt already exists. If you want to overwrite the file call the method with force=True\n",
      "TS2.txt already exists. If you want to overwrite the file call the method with force=True\n",
      "TS3.txt already exists. If you want to overwrite the file call the method with force=True\n",
      "TS4.txt already exists. If you want to overwrite the file call the method with force=True\n",
      "VS1.txt already exists. If you want to overwrite the file call the method with force=True\n",
      "documentation.txt already exists. If you want to overwrite the file call the method with force=True\n",
      "Zip file was not extracted\n"
     ]
    }
   ],
   "source": [
    "download_and_extract(data_url, 'dataset/ZEMA_Hydraulic/')"
   ]
  },
  {
   "cell_type": "code",
   "execution_count": 12,
   "metadata": {},
   "outputs": [],
   "source": []
  }
 ],
 "metadata": {
  "kernelspec": {
   "display_name": "Python 3",
   "language": "python",
   "name": "python3"
  },
  "language_info": {
   "codemirror_mode": {
    "name": "ipython",
    "version": 3
   },
   "file_extension": ".py",
   "mimetype": "text/x-python",
   "name": "python",
   "nbconvert_exporter": "python",
   "pygments_lexer": "ipython3",
   "version": "3.8.2"
  }
 },
 "nbformat": 4,
 "nbformat_minor": 2
}