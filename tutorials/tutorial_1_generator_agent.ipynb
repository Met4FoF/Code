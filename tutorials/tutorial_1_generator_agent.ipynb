{
 "cells": [
  {
   "cell_type": "markdown",
   "source": [
    "Here we define a new agent *SineGeneratorAgent* for which we have to override the \n",
    "functions `init_parameters()` & `agent_loop()` to define the new agent's behaviour.\n",
    "\n",
    "*   `init_parameters()` is used to setup the input data stream and potentially other \n",
    "necessary parameters.\n",
    "*   `agent_loop()` will be endlessly repeated until further notice. It will \n",
    "sample by sample extract the input data stream's content and push it to all agents \n",
    "connected to *SineGeneratorAgent*'s output channel by invoking `send_output()`. Each \n",
    "agent has an internal `current_state` which can be used as a switch to change the \n",
    "behaviour of the agent. The available states are listed\n",
    "[here](../agentMET4FOF/agents.py#L78)."
   ],
   "metadata": {
    "collapsed": false,
    "pycharm": {
     "name": "#%% md\n"
    }
   }
  },
  {
   "cell_type": "code",
   "execution_count": 8,
   "outputs": [],
   "source": [
    "%load tutorial_1_generator_agent.py\n"
   ],
   "metadata": {
    "collapsed": false,
    "pycharm": {
     "name": "#%%\n",
     "is_executing": false
    }
   }
  }
 ],
 "metadata": {
  "kernelspec": {
   "display_name": "Python 3",
   "language": "python",
   "name": "python3"
  },
  "language_info": {
   "codemirror_mode": {
    "name": "ipython",
    "version": 3
   },
   "file_extension": ".py",
   "mimetype": "text/x-python",
   "name": "python",
   "nbconvert_exporter": "python",
   "pygments_lexer": "ipython3",
   "version": "3.7.5"
  },
  "pycharm": {
   "stem_cell": {
    "cell_type": "raw",
    "source": [],
    "metadata": {
     "collapsed": false
    }
   }
  }
 },
 "nbformat": 4,
 "nbformat_minor": 1
}
