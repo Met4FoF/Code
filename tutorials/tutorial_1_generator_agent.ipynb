{
 "cells": [
  {
   "cell_type": "markdown",
   "metadata": {
    "pycharm": {
     "name": "#%% md\n"
    }
   },
   "source": [
    "First we define a simple pipeline of two agents, of which one will generate a signal \n",
    "(in our case a *SineGeneratorAgent*) and the other one plots the signal on the \n",
    "dashboard (this is always a *MonitorAgent*).\n",
    "\n",
    "We define a *SineGeneratorAgent* for which we have to override the \n",
    "functions `init_parameters()` & `agent_loop()` to define the new agent's behaviour.\n",
    "\n",
    "*   `init_parameters()` is used to setup the input data stream and potentially other \n",
    "necessary parameters.\n",
    "*   `agent_loop()` will be endlessly repeated until further notice. It will \n",
    "sample by sample extract the input data stream's content and push it to all agents \n",
    "connected to *SineGeneratorAgent*'s output channel by invoking `send_output()`.\n",
    "\n",
    "The *MonitorAgent* is connected to the *SineGeneratorAgent*'s output channel and per \n",
    "default automatically plots the output. \n",
    "\n",
    "Each agent has an internal `current_state` which can be used as a switch to change the \n",
    "behaviour of the agent. The available states are listed\n",
    "[here](https://github.com/bangxiangyong/agentMET4FOF/blob/a95b788544e8cce1e0bb757184da8c6447e96927/agentMET4FOF/agents.py#L78).\n",
    "\n",
    "As soon as all agents are initialized and the connections are set up, the agent \n",
    "network is started by accordingly changing all agents' state simultaneously."
   ]
  },
  {
   "cell_type": "code",
   "execution_count": 6,
   "metadata": {
    "pycharm": {
     "is_executing": false,
     "name": "#%%\n"
    }
   },
   "outputs": [],
   "source": [
    "%load tutorial_1_generator_agent.py"
   ]
  }
 ],
 "metadata": {
  "kernelspec": {
   "display_name": "Python 3",
   "language": "python",
   "name": "python3"
  },
  "language_info": {
   "codemirror_mode": {
    "name": "ipython",
    "version": 3
   },
   "file_extension": ".py",
   "mimetype": "text/x-python",
   "name": "python",
   "nbconvert_exporter": "python",
   "pygments_lexer": "ipython3",
   "version": "3.7.5"
  },
  "pycharm": {
   "stem_cell": {
    "cell_type": "raw",
    "source": [],
    "metadata": {
     "collapsed": false
    }
   }
  }
 },
 "nbformat": 4,
 "nbformat_minor": 1
}
