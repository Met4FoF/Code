{
 "cells": [
  {
   "cell_type": "markdown",
   "metadata": {
    "pycharm": {
     "name": "#%% md\n"
    }
   },
   "source": [
    "We can use different channels for the receiver  to handle specifically each channel \n",
    "name. This can be useful for example in splitting train and test channels in machine \n",
    "learning Then, the user will need to implement specific handling of each channel in \n",
    "the receiving agent.\n",
    " \n",
    "In this example, the *MultiGeneratorAgent* is used to send two different types of \n",
    "data - Sine and Cosine generator. This is done via specifying `send_output\n",
    "(channel=\"sine\")` and `send_output(channel=\"cosine\")`.\n",
    "\n",
    "Then on the receiving end, the `on_received_message()` function checks for \n",
    "`message['channel']` to handle it separately.\n",
    "\n",
    "Note that by default, *MonitorAgent* is only subscribed to the `\"default\"` channel. \n",
    "Hence it will not respond to the `\"cosine\"` and `\"sine\"` channel."
   ]
  },
  {
   "cell_type": "code",
   "execution_count": 3,
   "metadata": {
    "pycharm": {
     "is_executing": false,
     "name": "#%%\n"
    }
   },
   "outputs": [],
   "source": [
    "%load tutorial_3_multi_channel.py"
   ]
  }
 ],
 "metadata": {
  "kernelspec": {
   "display_name": "Python 3",
   "language": "python",
   "name": "python3"
  },
  "language_info": {
   "codemirror_mode": {
    "name": "ipython",
    "version": 3
   },
   "file_extension": ".py",
   "mimetype": "text/x-python",
   "name": "python",
   "nbconvert_exporter": "python",
   "pygments_lexer": "ipython3",
   "version": "3.7.5"
  },
  "pycharm": {
   "stem_cell": {
    "cell_type": "raw",
    "source": [],
    "metadata": {
     "collapsed": false
    }
   }
  }
 },
 "nbformat": 4,
 "nbformat_minor": 1
}
