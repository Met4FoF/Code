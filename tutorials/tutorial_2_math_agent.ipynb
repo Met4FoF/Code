{
 "cells": [
  {
   "cell_type": "markdown",
   "metadata": {
    "pycharm": {
     "name": "#%% md\n"
    }
   },
   "source": [
    "Here we demonstrate how to build a *MathAgent* as an intermediate to process the \n",
    "*SineGeneratorAgent*'s output before plotting.\n",
    "Subsequently, a *MultiMathAgent* is built to show the ability to send a dictionary of \n",
    "multiple fields to the recipient. We provide a custom `on_received_message()` function, \n",
    "which is called every time a message is received from input agents.\n",
    "\n",
    "The received message is in our example a dictionary with the format:\n",
    "\n",
    "    {\n",
    "    'from':agent_name,\n",
    "    'data': data,\n",
    "    'senderType': agent_class_name,\n",
    "    'channel':'channel_name'\n",
    "    }\n",
    "\n",
    "By default, channel is set to \"default\", however specific channel can be set when \n",
    "needed and is demonstrated in the next tutorial\n",
    "\n",
    "Here we define a new agent *SineGeneratorAgent*, and override the functions `\n",
    "init_parameters()` & `agent_loop()`.\n",
    "\n",
    "*   `init_parameters()` is used to setup the input \n",
    "data stream and potentially other necessary parameters.\n",
    "*   `agent_loop()` will be infinitely repeated, unless stopped by the user. It will \n",
    "sample by sample extract the input data stream's content and push it to all agents \n",
    "connected to *SineGeneratorAgent*'s output channel by invoking `send_output()`. Each \n",
    "agent has internal `current_state` which can be used as a switch by the *AgentNetwork*\n",
    "to change the behaviour of the agent. The available states are listed [here\n",
    "](../agentMET4FOF/agents.py#L78)."
   ]
  },
  {
   "cell_type": "code",
   "execution_count": null,
   "metadata": {
    "pycharm": {
     "is_executing": false,
     "name": "#%%\n"
    }
   },
   "outputs": [],
   "source": [
    "# %load tutorial_2_math_agent.py\n",
    "from agentMET4FOF.agents import AgentMET4FOF, AgentNetwork, MonitorAgent\n",
    "from agentMET4FOF.streams import SineGenerator\n",
    "\n",
    "\n",
    "#simple math functions\n",
    "def divide_by_two(data):\n",
    "    return data / 2\n",
    "def minus(data, minus_val):\n",
    "    return data-minus_val\n",
    "def plus(data,plus_val):\n",
    "    return data+plus_val\n",
    "\n",
    "class MathAgent(AgentMET4FOF):\n",
    "    def on_received_message(self, message):\n",
    "        data = divide_by_two(message['data'])\n",
    "        self.send_output(data)\n",
    "\n",
    "class MultiMathAgent(AgentMET4FOF):\n",
    "    def init_parameters(self,minus_param=0.5,plus_param=0.5):\n",
    "        self.minus_param = minus_param\n",
    "        self.plus_param = plus_param\n",
    "\n",
    "    def on_received_message(self, message):\n",
    "        minus_data = minus(message['data'], self.minus_param)\n",
    "        plus_data = plus(message['data'], self.plus_param)\n",
    "\n",
    "        self.send_output({'minus':minus_data,'plus':plus_data})\n",
    "\n",
    "class SineGeneratorAgent(AgentMET4FOF):\n",
    "    def init_parameters(self):\n",
    "        self.stream = SineGenerator()\n",
    "\n",
    "    def agent_loop(self):\n",
    "        if self.current_state == \"Running\":\n",
    "            sine_data = self.stream.next_sample() #dictionary\n",
    "            self.send_output(sine_data['x'])\n",
    "\n",
    "\n",
    "def main():\n",
    "    # start agent network server\n",
    "    agentNetwork = AgentNetwork()\n",
    "    # init agents\n",
    "    gen_agent = agentNetwork.add_agent(agentType=SineGeneratorAgent)\n",
    "    math_agent = agentNetwork.add_agent(agentType=MathAgent)\n",
    "    multi_math_agent = agentNetwork.add_agent(agentType=MultiMathAgent)\n",
    "    monitor_agent = agentNetwork.add_agent(agentType=MonitorAgent)\n",
    "    \n",
    "    # Now we connect the agents. We can connect as many agents to as many agents as \n",
    "    # we like.\n",
    "    \n",
    "    # This will show the raw data in the plots.\n",
    "    agentNetwork.bind_agents(gen_agent, monitor_agent)\n",
    "    \n",
    "    \n",
    "    agentNetwork.bind_agents(gen_agent, math_agent)\n",
    "    agentNetwork.bind_agents(math_agent, monitor_agent)\n",
    "    \n",
    "    agentNetwork.bind_agents(gen_agent, multi_math_agent)\n",
    "    # connect\n",
    "    agentNetwork.bind_agents(multi_math_agent, monitor_agent)\n",
    "    # set all agents states to \"Running\"\n",
    "    agentNetwork.set_running_state()\n",
    "\n",
    "    # allow for shutting down the network after execution\n",
    "    return agentNetwork\n",
    "\n",
    "\n",
    "if __name__ == '__main__':\n",
    "    main()\n",
    "\n",
    "\n"
   ]
  }
 ],
 "metadata": {
  "kernelspec": {
   "display_name": "Python 3",
   "language": "python",
   "name": "python3"
  },
  "language_info": {
   "codemirror_mode": {
    "name": "ipython",
    "version": 3
   },
   "file_extension": ".py",
   "mimetype": "text/x-python",
   "name": "python",
   "nbconvert_exporter": "python",
   "pygments_lexer": "ipython3",
   "version": "3.7.5"
  },
  "pycharm": {
   "stem_cell": {
    "cell_type": "raw",
    "source": [],
    "metadata": {
     "collapsed": false
    }
   }
  }
 },
 "nbformat": 4,
 "nbformat_minor": 1
}
