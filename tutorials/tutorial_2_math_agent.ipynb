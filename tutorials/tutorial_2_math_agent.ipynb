{
 "cells": [
  {
   "cell_type": "markdown",
   "metadata": {
    "pycharm": {
     "name": "#%% md\n"
    }
   },
   "source": [
    "Here we demonstrate how to build a *MathAgent* as an intermediate to process the \n",
    "*SineGeneratorAgent*'s output before plotting.\n",
    "Subsequently, a *MultiMathAgent* is built to show the ability to send a dictionary of \n",
    "multiple fields to the recipient. We provide a custom `on_received_message()` function, \n",
    "which is called every time a message is received from input agents.\n",
    "\n",
    "The received message is a dictionary of the form:\n",
    "\n",
    "    {\n",
    "    'from':agent_name,\n",
    "    'data': data,\n",
    "    'senderType': agent_class_name,\n",
    "    'channel':'channel_name'\n",
    "    }\n",
    "\n",
    "By default, `'channel'` is set to `\"default\"`, however a custom channel can be set \n",
    "when needed, which is demonstrated in the next tutorial."
   ]
  },
  {
   "cell_type": "code",
   "execution_count": 6,
   "metadata": {
    "pycharm": {
     "is_executing": false,
     "name": "#%%\n"
    }
   },
   "outputs": [
    {
     "name": "stdout",
     "output_type": "stream",
     "text": [
      "Dashboard is running on: 127.0.0.1:8050\n",
      "SET STATE:   Running\n"
     ]
    },
    {
     "data": {
      "text/plain": [
       "<Figure size 432x288 with 0 Axes>"
      ]
     },
     "metadata": {},
     "output_type": "display_data"
    }
   ],
   "source": [
    "%load tutorial_2_math_agent.py"
   ]
  }
 ],
 "metadata": {
  "kernelspec": {
   "display_name": "Python 3",
   "language": "python",
   "name": "python3"
  },
  "language_info": {
   "codemirror_mode": {
    "name": "ipython",
    "version": 3
   },
   "file_extension": ".py",
   "mimetype": "text/x-python",
   "name": "python",
   "nbconvert_exporter": "python",
   "pygments_lexer": "ipython3",
   "version": "3.7.5"
  },
  "pycharm": {
   "stem_cell": {
    "cell_type": "raw",
    "source": [],
    "metadata": {
     "collapsed": false
    }
   }
  }
 },
 "nbformat": 4,
 "nbformat_minor": 1
}
