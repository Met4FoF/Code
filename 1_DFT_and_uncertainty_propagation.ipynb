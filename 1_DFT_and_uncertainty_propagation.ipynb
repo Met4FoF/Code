{
 "cells": [
  {
   "cell_type": "markdown",
   "metadata": {},
   "source": [
    "# 2. Discrete Fourier Transform and uncertainty propagation"
   ]
  },
  {
   "cell_type": "markdown",
   "metadata": {},
   "source": [
    "*Before usage of this notebook, please download folder `Files_for_notebooks.zip` from this link https://github.com/harislulic/ZeMA-machine-learning-tutorials/releases/tag/v0.1.2\n",
    "and store the files in the same folder which is location for this notebook.\n",
    "It is also necessary to install pip in your environment and using this, package PyDynamic:*\n",
    "\n",
    "pip install PyDynamic\n",
    "\n",
    "*In order to see interactive diagrams, write:* \n",
    "\n",
    "pip install ipywidgets\n",
    "\n",
    "jupyter nbextension enable --py widgetsnbextension   "
   ]
  },
  {
   "cell_type": "markdown",
   "metadata": {},
   "source": [
    "## 2.1 Introduction "
   ]
  },
  {
   "cell_type": "markdown",
   "metadata": {},
   "source": [
    "Signals are represented mathematically as functions of one or more independent variables. The independent variable in the mathematical representation of a signal may be either continuous or discrete. Continuous time signals are defined along a continuum of times and thus are represented by a continuous independent variable. Continuous time signals are often referred to as analog signals. Discrete time signals are defined at discrete times and, the independent variable has discrete values; i.e. discrete time signals are represented as sequences of numbers. In practical setting, such sequences can often arise from periodic sampling of an analog signal. In this case, the numeric value of the *n*th number in the sequence is equal to the value of the analog signal $x_{a}(t)$, at time *nT*; i.e.:\n",
    "$$x[n] =x_{a}(nT), {-\\infty}<n<{\\infty} $$\n",
    "\n",
    "The quantity *T* is called the *sampling period* and its reciprocal is the *sampling frequency*.[8]\n",
    "\n",
    "A discrete - time system is defined mathematically as transformation or operator that maps an input sequence with values *x[n]* into an output sequence with values *y[n]* This can be denoted as:\n",
    "\n",
    "$$y[n] =T[x[n]]$$"
   ]
  },
  {
   "cell_type": "markdown",
   "metadata": {},
   "source": [
    "As with continuous time signals, discrete time signals my be represented in a number of different ways. For example, sinusoidal and complex exponential sequences play a particulary important role in representing discrete-time signals. This is because complex exponential sequences are eigenfunctions of linear time-invariant systems and the response to a sinusoidal input is sinusoidal with the same frequency as the input and with amplitude and phase determined by system.\n",
    "\n",
    "Linear time invariant systems (more about in [8]) can be described by their impulse response, and the response to any time-distributed signal is described by convolving the signal with the impulse response. Convolution is a commutative and associative operation, but it is also quite computationally and conceptually expensive. For discrete signals, with the development of efficient Fast Fourier transform (FFT) algorithms, almost always, it is faster to implement a convolution operation in the frequency domain than in the time domain.\n",
    "\n",
    "Properties of linear time invariant systems and their combinations are much better described and manipulated after Fourier transformation, for example:"
   ]
  },
  {
   "cell_type": "markdown",
   "metadata": {},
   "source": [
    "Fourier transform of a signal tells you what frequencies are present in your signal and in what proportions.\n",
    "\n",
    "*Have you ever noticed that each of your phone's number buttons sounds different when you press during a call and that it sounds the same for every phone model? That's because they're each composed of two different sinusoids which can be used to uniquely identify the button. When you use your phone to enter combinations to navigate a menu, the way that the other party knows what keys you pressed is by doing a Fourier transform of the input and looking at the frequencies present.*[9]\n",
    "\n",
    "The magnitude square of the Fourier transform, $|X(f)|^2$ instantly tells us how much power the signal x(t) has at a particular frequency f."
   ]
  },
  {
   "cell_type": "markdown",
   "metadata": {},
   "source": [
    "### 2.1.1 Discrete Fourier Transform (DFT)"
   ]
  },
  {
   "cell_type": "markdown",
   "metadata": {},
   "source": [
    "The Discrete Fourier Transform (DFT) is the equivalent of the continuous Fourier Transform for signals known only at instants separated by sample times (i.e.a ﬁnite sequence of data). The DFT corresponds to samples, equally spaced in frequency of the Fourier transform of the signal. In addition to its theoretical importance as a Fourier representation of sequnces, the DFT plays cetral role in the implementation of a variety of digital signal processing algorithms. This is because efficient algorithms exist for the computation of the DFT. These efficient algorithms are called *Fast Fourier transform (FFT)   algorithms* [8]. In particular for dynamic metrology, where the involved quantities have time varying values, the DFT is considered an essential tool. It is employed, for instance, to assess the frequency content of a measured time series, design suitable digital filters or carry out input estimation.[7]"
   ]
  },
  {
   "cell_type": "markdown",
   "metadata": {},
   "source": [
    "The time taken to evaluate a DFT on a digital computer depends principally on the number of multiplications involved, since these are the slowest operations. With the DFT, this number is directly related to $N^2$ (matrix multiplication of a vector), where *N* is the length of the transform. For most problems, *N* is chosen to be at least 256 in order to get a reasonable approximation for the spectrum of the sequence under consideration – hence computational speed becomes a major consideration. Fast Fourier Transform (FFT) algorithms rely on the fact that the standard DFT involves a lot of redundant calculations and reduces their number."
   ]
  },
  {
   "cell_type": "markdown",
   "metadata": {},
   "source": [
    "## 2.2. The structure of tutorials"
   ]
  },
  {
   "cell_type": "markdown",
   "metadata": {},
   "source": [
    "In the previous file, ZeMA testbed dataset was imported and visualized. It contains data from these 11 sensors available for estimation of remainig lifetime."
   ]
  },
  {
   "cell_type": "markdown",
   "metadata": {},
   "source": [
    "Machine learning methods thet are applied at ZeMA are separated into steps:\n",
    "\n",
    "1) Feature Extraction\n",
    "\n",
    "2) Feature Selection\n",
    "\n",
    "3) Classification\n",
    "\n",
    "4) Evaluation."
   ]
  },
  {
   "cell_type": "markdown",
   "metadata": {},
   "source": [
    "All of these steps were previously implemented in ZeMA-machine-learning-tutorials found on this link: https://github.com/harislulic/ZeMA-machine-learning-tutorials/tree/computation_without_uncertaintites .\n",
    "\n",
    "This and the following notebooks are supplements of the previous tutorials, with focus on the uncertainty propagation in stepse 1) and 2). Some parts from the previous tutorials are also presented here in order to show the comparison of results with and without uncertainties involved.\n",
    "\n",
    "This notebook will explain the basics of (FFT) and principles of using PyDynamic software for the uncertainty propagation.\n",
    "File [3_Features_extraction_and_selection.ipynb](3_Features_extraction_and_selection.ipynb) contains steps 1) and 2) supplemented by uncertainties. That file is very intensive and because of that, steps 1) and 2) can be found separately in  [3a_Features_extraction.ipynb](3a_Features_extraction.ipynb) and [3b_Features_selection.ipynb](3a_Features_selection.ipynb.ipynb)."
   ]
  },
  {
   "cell_type": "markdown",
   "metadata": {},
   "source": [
    "## 2.3 Fast Fourier transform (FFT)"
   ]
  },
  {
   "cell_type": "markdown",
   "metadata": {},
   "source": [
    "A first idea for machine learning on the dataset from the previous notebook is to try to use fast Fourier transform to make useful features from time series. That's why we will first examine FFT on these time series."
   ]
  },
  {
   "cell_type": "markdown",
   "metadata": {},
   "source": [
    "Fourier showed that any periodic signal s(t) can be written as a sum of sine waves with various amplitudies, frequencies and phases [2]:\n",
    "\n",
    "<img src=\"pictures/fft.png\">\n",
    "\n",
    "Results of this are amplitudes and phase shifts for frequency range from 0 to half the sampling frequency and it is covered by (N/2)+1 points where N is the size of the window i.e. number of samples. From Nyquist's theorem we know that the largest frequency component in the original signal must be half the sampling frequency. So, from a 2000 point FFT of signals sampled at 2000Hz we get 1001 unique spectral points covering the range 0 to 1000Hz.\n",
    "\n"
   ]
  },
  {
   "cell_type": "code",
   "execution_count": 1,
   "metadata": {},
   "outputs": [],
   "source": [
    "import h5py                                                 #importing the h5 package\n",
    "import numpy as np\n",
    "import matplotlib.pyplot as plt\n",
    "import pandas as pd\n",
    "from matplotlib import colors                                #ploting with colors\n",
    "import scipy.fftpack                                         #fourier tranformation\n",
    "from collections import OrderedDict\n",
    "import matplotlib as mpl\n",
    "font = {'family' : 'DejaVu Sans',\n",
    "        'weight' : 'normal',\n",
    "        'size'   : 20}\n",
    "mpl.rcParams['figure.figsize'] = (20,10)\n",
    "mpl.rc('font', **font)"
   ]
  },
  {
   "cell_type": "markdown",
   "metadata": {},
   "source": [
    "### 2.3.1 Data import"
   ]
  },
  {
   "cell_type": "code",
   "execution_count": 2,
   "metadata": {},
   "outputs": [
    {
     "name": "stdout",
     "output_type": "stream",
     "text": [
      "    \n",
      "    Input matrices have dimensions: (2000, 6291), where 2000 represents number of measurements  in time\n",
      "    and 6291 represents number of cycles.\n"
     ]
    }
   ],
   "source": [
    "filename = 'Sensor_data_2kHz.h5'                # Data filename.\n",
    "f = h5py.File(filename, 'r')                    # Importing the h5 file. \n",
    "\n",
    "#print(\"Keys: %s\" % f.keys())\n",
    "a_group_key = list(f.keys())[0]\n",
    "\n",
    "data = list(f[a_group_key])                     # Transforming data into list\n",
    "\n",
    "sensorADC=[]                                       # Initialising a list \"sensor\" and\n",
    "for i in range(11):                                # Filling it with data from all sensors \n",
    "    sensorADC.append(pd.DataFrame(data[i][:][:]))\n",
    "\n",
    "for i in range(11):                             \n",
    "    sensorADC[i]=sensorADC[i].iloc[:,:6291]           # Cuting the last cycle because it contains all zero elements.\n",
    "\n",
    "print(\"\"\"    \n",
    "    Input matrices have dimensions: %s, where %s represents number of measurements  in time\n",
    "    and %s represents number of cycles.\"\"\" % (np.shape(sensorADC[0]),np.shape(sensorADC[0])[0],np.shape(sensorADC[0])[1]))\n"
   ]
  },
  {
   "cell_type": "markdown",
   "metadata": {},
   "source": [
    "### 2.3.2 Converting into SI units "
   ]
  },
  {
   "cell_type": "code",
   "execution_count": 3,
   "metadata": {},
   "outputs": [],
   "source": [
    "offset=[0, 0, 0, 0, 0.00488591, 0.00488591, 0.00488591,  0.00488591, 1.36e-2, 1.5e-2, 1.09e-2]\n",
    "gain=[5.36e-9, 5.36e-9, 5.36e-9, 5.36e-9, 3.29e-4, 3.29e-4, 3.29e-4, 3.29e-4, 8.76e-5, 8.68e-5, 8.65e-5]\n",
    "b=[1, 1, 1, 1, 1, 1, 1, 1, 5.299641744, 5.299641744, 5.299641744]\n",
    "k=[250, 1, 10, 10, 1.25, 1, 30, 0.5, 2, 2, 2]\n",
    "units=['[Pa]', '[g]', '[g]', '[g]', '[kN]', '[bar]', '[mm/s]', '[A]', '[A]', '[A]', '[A]']\n",
    "\n",
    "sensor=[0]*len(sensorADC)\n",
    "\n",
    "for i in range(len(sensorADC)):\n",
    "    sensor[i]=((sensorADC[i]*gain[i])+offset[i])*b[i]*k[i]\n",
    "\n"
   ]
  },
  {
   "cell_type": "markdown",
   "metadata": {},
   "source": [
    "###### If you have problems with previous step, you can skip conversion into SI units by running next cell."
   ]
  },
  {
   "cell_type": "code",
   "execution_count": null,
   "metadata": {},
   "outputs": [],
   "source": [
    "sensor=sensorADC"
   ]
  },
  {
   "cell_type": "markdown",
   "metadata": {},
   "source": [
    "*One cycle of microphone sensor will be analysed with `FFT`.*"
   ]
  },
  {
   "cell_type": "code",
   "execution_count": null,
   "metadata": {},
   "outputs": [],
   "source": [
    "# 0 represents sensor number (microphone)\n",
    "# 3000 represents cycle number from microphone\n",
    "df=sensor[0][3000]\n"
   ]
  },
  {
   "cell_type": "markdown",
   "metadata": {},
   "source": [
    "Time axis is formed based on informations about data (`0_Data_Import_and_Visualisation.ipynb`). Sampling period is 1 second, and number of points is 2000 i.e. length of this time series.\n",
    "\n",
    "After fast Fourier transform, this signal can be represented in the frequency domain. (**Amplitude-Frequency** plot) "
   ]
  },
  {
   "cell_type": "code",
   "execution_count": null,
   "metadata": {},
   "outputs": [],
   "source": [
    "time = 1                                                                   # sampling period 1 s\n",
    "n_of_sampling_pts=2000                                                     # sampling points\n",
    "\n",
    "x = np.true_divide(df.index, n_of_sampling_pts)                            # time values\n",
    "freq = np.fft.rfftfreq(n_of_sampling_pts, float(time)/n_of_sampling_pts)   # frequency axis\n",
    "amp = np.fft.rfft(df)   \n"
   ]
  },
  {
   "cell_type": "code",
   "execution_count": null,
   "metadata": {},
   "outputs": [],
   "source": [
    "mpl.rcParams['figure.figsize'] = (20,10)\n",
    "mpl.rc('font', **font)\n",
    "\n",
    "plt.figure(figsize=(20,12))\n",
    "\n",
    "plt.subplot(211)\n",
    "plt.plot(x.values, df, label=\"Real values\")\n",
    "plt.ylabel(\"Microphone (Pa)\")\n",
    "plt.xlabel(\"Time (s)\")\n",
    "\n",
    "plt.subplot(212)\n",
    "plt.plot(freq,np.abs(amp))\n",
    "plt.xlabel(\"Frequency (Hz)\")  \n",
    "plt.ylabel(\"Amplitude (Pa)\")  "
   ]
  },
  {
   "cell_type": "markdown",
   "metadata": {},
   "source": [
    "Because of idea to use 10% of these amplitudes for machine learning workflow, which should be enough to reconstruct the signal and make prediction, reconstruction using 10% highest amplitudes will be shown here."
   ]
  },
  {
   "cell_type": "markdown",
   "metadata": {},
   "source": [
    "Amplitudes are sorted by their absolute values from highest to lowest."
   ]
  },
  {
   "cell_type": "code",
   "execution_count": null,
   "metadata": {},
   "outputs": [],
   "source": [
    "coeffs = dict(zip(freq, amp))\n",
    "\n",
    "# take top N % of coefficients  !!!! This can be changed !!!!\n",
    "N=10\n",
    "\n",
    "# taking top N % aplitudes and sorting them by value, t[1] means sorting by second column i.e. by values of dictionary\n",
    "out = OrderedDict(sorted(coeffs.items(), key=lambda t: abs(t[1]), reverse=True)[:round((N/100.0)*len(freq))])  \n",
    "\n",
    "sorted_amp=list(out.values())       #transforming sorted dictionary to the list"
   ]
  },
  {
   "cell_type": "markdown",
   "metadata": {},
   "source": [
    "Keeping only 10% choosen frequencies. "
   ]
  },
  {
   "cell_type": "code",
   "execution_count": null,
   "metadata": {},
   "outputs": [],
   "source": [
    "treeshold_apsolute_amplitude=abs(sorted_amp[-1])      #choosing the treeshold amplitude\n",
    "\n",
    "for key, value in coeffs.items():\n",
    "        if abs(value) <= treeshold_apsolute_amplitude:\n",
    "             coeffs[key]=0+0j\n",
    "                \n",
    "top_10=list(coeffs.values())"
   ]
  },
  {
   "cell_type": "markdown",
   "metadata": {},
   "source": [
    "Another plot in frequency domain, will show which frequencies out of full spectrum are selected and why."
   ]
  },
  {
   "cell_type": "code",
   "execution_count": null,
   "metadata": {},
   "outputs": [],
   "source": [
    "plt.plot(freq,np.abs(amp),zorder=1, linewidth=4,label='Full spectrum') \n",
    "plt.ylabel(\"Amplitude (Pa)\") \n",
    "\n",
    "plt.plot(np.abs(top_10),zorder=2, label='10% frequencies')\n",
    "plt.xlabel(\"Frequency (Hz)\")\n",
    "plt.legend()"
   ]
  },
  {
   "cell_type": "markdown",
   "metadata": {},
   "source": [
    "Next plot shows sorted amplitudes, but without frequency labels.  "
   ]
  },
  {
   "cell_type": "code",
   "execution_count": null,
   "metadata": {},
   "outputs": [],
   "source": [
    "plt.stem(np.abs(sorted_amp), markerfmt=' ', use_line_collection=True)\n",
    "plt.ylabel(\"Amplitude (Pa)\") "
   ]
  },
  {
   "cell_type": "markdown",
   "metadata": {},
   "source": [
    "Reconstructing using inverse fast Fourier transform will give similar sensor signal, and that is why these frequencies and amplitudes are very good features for comparing different cycles."
   ]
  },
  {
   "cell_type": "code",
   "execution_count": null,
   "metadata": {},
   "outputs": [],
   "source": [
    "inverse_fft = np.fft.irfft(top_10)\n",
    "\n",
    "plt.plot(x.values, df, label=\"Real values\")\n",
    "plt.ylabel(\"Microphone (Pa)\")\n",
    "plt.xlabel(\"Time (s)\")\n",
    "plt.plot(x.values,inverse_fft, label=\"Reconstructed values\")\n",
    "plt.xlim(0,1)\n",
    "plt.legend()\n"
   ]
  },
  {
   "cell_type": "markdown",
   "metadata": {},
   "source": [
    "This procedure can be done for every sensor and every cycle of each sensor."
   ]
  },
  {
   "cell_type": "markdown",
   "metadata": {},
   "source": [
    "## 2.4 PyDynamic for the uncertainty propagation"
   ]
  },
  {
   "cell_type": "markdown",
   "metadata": {},
   "source": [
    "In order to perform uncertainty evaluation, the PyDynamic software is used. The software is based on Discrete Fourier Transform (DFT) with some FFT algorithm.\n",
    "\n",
    "The time domain signal is *x* with associated uncertainty *ux* as squared standard deviation representing white-noise variances ($\\sigma^2$) of the signals *x*. The value of *ux* can be user-defined.\n",
    "White noise is a signal whose spectrum has equal power within any equal interval of frequencies.\n",
    "\n",
    "The result of the DFT is the vector X of real and imaginary parts of the DFT applied to *x* and the associated uncertainty UX ( covariance matrix associated with  or as a variance in the case of white noise.) When only white noise is considered, all off-diagonal elements of UX are equal to zero. [5] \n",
    "\n",
    "Sampling period is 1 second, and number of points is 2000 i.e. length of this time series.\n",
    "\n",
    "*One cycle of microphone sensor will be analysed with `DFT`.*"
   ]
  },
  {
   "cell_type": "code",
   "execution_count": null,
   "metadata": {},
   "outputs": [],
   "source": [
    "from PyDynamic import __version__ as version\n",
    "version"
   ]
  },
  {
   "cell_type": "code",
   "execution_count": null,
   "metadata": {},
   "outputs": [],
   "source": [
    "sigma=float(input(\"Assume standard deviation:\"))                           #signal noise standard deviation\n",
    "sensor_num = int(input(\"Enter the number of sensor (0-11):\"))\n",
    "cycle=int(input(\"Enter the cycle(0-6291):\"))"
   ]
  },
  {
   "cell_type": "code",
   "execution_count": null,
   "metadata": {},
   "outputs": [],
   "source": [
    "import PyDynamic\n",
    "ux=sigma**2                                                                \n",
    "time = 1                                                                   # sampling period 1 s\n",
    "n_of_sampling_pts=2000                                                     # sampling points\n",
    "time_steps=np.arange(0, time, float(time)/n_of_sampling_pts)               # timesteps for the period (0 - 1) s\n",
    "X,UX=PyDynamic.uncertainty.propagate_DFT.GUM_DFT(sensor[sensor_num][:][cycle],ux)\n",
    "print(\"Vector X has dimensions:\",X.shape)                                         # vector of real and imaginary parts\n",
    "print(\"Vector UX has dimensions:\",UX.shape)                                        # vector/covariance matrix of uncertainites\n",
    "freq=PyDynamic.uncertainty.propagate_DFT.GUM_DFTfreq(2000, float(time)/n_of_sampling_pts)\n",
    "# frequency axis (array of length N//2 + 1 containing the sample frequencies)"
   ]
  },
  {
   "cell_type": "markdown",
   "metadata": {},
   "source": [
    "First plot represents time domain signal values. The second and third plot represent real and imaginary parts of the vector X, with their associated uncertainty. \n",
    "*Note: au - arbitrary unit*"
   ]
  },
  {
   "cell_type": "code",
   "execution_count": null,
   "metadata": {
    "scrolled": true
   },
   "outputs": [],
   "source": [
    "mpl.rcParams['figure.figsize'] = (20,10)\n",
    "mpl.rc('font', **font)\n",
    "\n",
    "plt.figure(figsize=(20,12))\n",
    "plt.plot(time_steps, sensor[sensor_num][:][cycle])\n",
    "plt.xlabel(\"time (s)\")\n",
    "plt.ylabel(\"Microphone (Pa)\")\n",
    "plt.figure(figsize=(20,12))\n",
    "plt.subplot(211)\n",
    "plt.errorbar(freq, X[:len(freq)], xerr=np.sqrt(UX[:len(freq)]))\n",
    "plt.ylabel(\"real parts (au) \")\n",
    "plt.xticks([])\n",
    "plt.subplot(212)\n",
    "plt.errorbar(freq, X[len(freq):], xerr=np.sqrt(UX[len(freq):]))\n",
    "plt.ylabel(\"imaginary parts (au)\")\n",
    "plt.xlabel(\"frequency / Hz\")"
   ]
  },
  {
   "cell_type": "markdown",
   "metadata": {},
   "source": [
    "### 2.4.1 Transformation from real and imaginary parts to amplitudes and phases\n",
    "\n",
    "DFT gives complex values obtained from real and imaginary parts as results. Nevertheless, it is possible to calculate and phases instead. These amplitudes and phases must be the same as in the section 2.3 and this is how we will the results will be checked.\n",
    "\n",
    "Amplitudes and phases are calculated on the basis of vector X  and covariance matrix of uncertainties, UAP on the basis of  uncertainties UX. The shape of matrix of uncertainties, UAP is (2M,2M), where *M* corresponds to the number of (*N*/2)+1 points (*N* - number of sampling points). The shape of matrices of amplitudes and phases, respectively A, P is (M,M).\n",
    "\n",
    "*Note: When amplitudes are small relative to the uncertainty associated with real and imaginary parts , the GUM uncertainty propagation becomes unreliable and a Monte Carlo method is recommended instead. Consequently, GUM2DFT does raise a warning to the user and recommends using a Monte Carlo method instead whenever an element of  is below a pre-defined threshold. The default threshold in GUM2DFT is 1.0, but may be adjusted for specific applications.[7]*\n",
    "\n"
   ]
  },
  {
   "cell_type": "code",
   "execution_count": null,
   "metadata": {},
   "outputs": [],
   "source": [
    "A,P,UAP=PyDynamic.uncertainty.propagate_DFT.DFT2AmpPhase(X, UX, keep_sparse=False, tol=1.0, return_type='separate')"
   ]
  },
  {
   "cell_type": "markdown",
   "metadata": {},
   "source": [
    "As mentioned before, because of the white noise, UAP matrix contains lots of zeros (all of non-diagonal elements). In this case, UAP matrix is dense matrix. Operations using standard dense-matrix structures and algorithms are slow and inefficient when applied to large sparse matrices as processing and memory are wasted on the zeroes. If matrix has large dimensions, sparse data is by nature more easily compressed and thus requires significantly less storage [6]. Amplitudes and phases with their uncertainties are shown on the following plots:"
   ]
  },
  {
   "cell_type": "code",
   "execution_count": null,
   "metadata": {},
   "outputs": [],
   "source": [
    "plt.figure(figsize=(20,12))\n",
    "plt.subplot(211)\n",
    "\n",
    "plt.errorbar(freq, A,xerr=np.sqrt((np.diag(UAP)[:1001])), ecolor='black') #other diagonals are zero\n",
    "plt.ylabel(\"Amplitude\") \n",
    "plt.xlabel(\"Frequency (Hz)\")\n",
    "plt.subplot(212)\n",
    "plt.errorbar(freq, P,xerr=(np.sqrt((np.diag(UAP))[1001:])),ecolor='black')\n",
    "plt.xlabel(\"Frequency (Hz)\")\n",
    "plt.ylabel(\"Phase\")   "
   ]
  },
  {
   "cell_type": "markdown",
   "metadata": {},
   "source": [
    "It can be seen that in some cases, uncertainties of phases are extremly high."
   ]
  },
  {
   "cell_type": "markdown",
   "metadata": {},
   "source": [
    "### 2.4.2 Reconstruction of time domain signals\n"
   ]
  },
  {
   "cell_type": "markdown",
   "metadata": {},
   "source": [
    "Reconstruction using 10% highest amplitudes can be made with iDFT function or AmpPhase2Time from PyDynamic.\n",
    "The first one was implemented into function `reconstructed_signal_with_iDFT` with arguments (*parts*,*unc*,*perc*), where *parts* denotes vector of real and imaginary parts, *unc* their uncertainties and *perc* the percentage of the spectrum that will be taken into consideration.\n",
    "\n",
    "From real and imaginary parts contained in vector *parts*, amplitude in every frequency can be calculated as\n",
    "$A=\\sqrt{(Real-part)²+(Imaginary-part)²}$. \n",
    "\n",
    "Indices of 10% of highest amplitudes are found by function `np.argsort`.\n",
    "\n",
    "Values of real and imaginary parts of 10% of spectrum are assigned to vector *F*, on the indices that were found by `np.argsort`. Other values are considered as zeros.\n",
    "\n",
    "Values of uncertainties of real and imaginary parts of 10% of spectrum are assigned to vector *UF*, on the indices that were found by `np.argsort`. Other values are considered as zeros."
   ]
  },
  {
   "cell_type": "code",
   "execution_count": null,
   "metadata": {},
   "outputs": [],
   "source": [
    "def reconstructed_signal_with_iDFT(parts,unc,perc):\n",
    "    Amplitudes=[]\n",
    "    range_F=unc.shape[0]-2\n",
    "    for i in range(range_F//2):\n",
    "        Amplitudes.append(np.sqrt(parts[i]**2+parts[range_F//2+i]**2)) #calculating amplitudes\n",
    "    Sorted_amplitudes=np.argsort(Amplitudes)[::-1] # indices of amplitudes in descending order\n",
    "    N_highest_amplitudes=Sorted_amplitudes[:perc]\n",
    "    F=np.zeros(len(parts)) #Vector (2*len(parts),)\n",
    "    UF=np.zeros(len(parts)) #Vector (2*len(parts),)\n",
    "    for i in N_highest_amplitudes:\n",
    "        F[i]=parts[i] # assigned real parts on indices of amplitudes \n",
    "        F[i+range_F//2+1]=parts[i+range_F//2+1] # assigned imaginary parts on indices of amplitudes \n",
    "        UF[i]=unc[i] # assigned uncertainties of real parts on indices of amplitudes \n",
    "        UF[i+range_F//2+1]=unc[i+range_F//2+1] # assigned uncertainties of imaginary on indices of amplitudes \n",
    "    x,ux=PyDynamic.uncertainty.propagate_DFT.GUM_iDFT(F, UF, Nx=None, Cc=None, Cs=None, returnC=False)\n",
    "    return x,ux"
   ]
  },
  {
   "cell_type": "markdown",
   "metadata": {},
   "source": [
    "Function is executed on the previously obtained *X*,*UX* and *N*"
   ]
  },
  {
   "cell_type": "code",
   "execution_count": null,
   "metadata": {},
   "outputs": [],
   "source": [
    "N=int(input(\"Enter the percentage of choosen amplitudes (0-100):\"))\n",
    "x1,ux1=reconstructed_signal_with_iDFT(X,UX,N)"
   ]
  },
  {
   "cell_type": "code",
   "execution_count": null,
   "metadata": {},
   "outputs": [],
   "source": [
    "plt.plot(time_steps, df, label=\"Real values\")\n",
    "plt.ylabel(\"Microphone (Pa)\")\n",
    "plt.xlabel(\"Time (s)\")\n",
    "plt.errorbar(time_steps,x1,xerr=np.sqrt(np.diag(ux1)),label=\"Reconstructed values with DFT\")\n",
    "\n",
    "plt.xlim(0,1)\n",
    "plt.legend()"
   ]
  },
  {
   "cell_type": "markdown",
   "metadata": {},
   "source": [
    "Reconstruction using 10% highest amplitudes can be also made with AmpPhase2Time from PyDynamic.\n",
    "This was implemented into function `reconstructed_signal_with_AmpPhase2Time` with arguments (*amplitudes*, *phases*, *uncertainties*, *perc*), where *amplitudes* denotes vector of amplitudes, *phases* denotes vector of phases and *uncertainties* is the uncertainty matrix. *perc* denotes the percentage of the highest amplitudes that will be taken into consideration.\n",
    "\n",
    "Values of amplitudes for 10% of spectrum are assigned to the vector *A1*, on the indices that were found by `np.argsort`. Other values are considered as zeros.\n",
    "\n",
    "Values of phases that correspond to the amplitudes are assigned to the vector *P1*, on the indices that were found by `np.argsort`. Other values are considered as zeros.\n",
    "\n",
    "Values of uncertainties of 10% of spectrum are assigned to vector *UAP1*, on the indices that were found by `np.argsort`. Other values are considered as zeros."
   ]
  },
  {
   "cell_type": "code",
   "execution_count": null,
   "metadata": {},
   "outputs": [],
   "source": [
    "def reconstructed_signal_with_AmpPhase2Time(amplitudes,phases,uncertainties,perc):\n",
    "    Amplitudes=amplitudes\n",
    "    Phases=phases\n",
    "    Uncert=uncertainties\n",
    "    Index_amplitudes=np.argsort(Amplitudes)[::-1]        # indices of amplitudes in descending order\n",
    "    N_highest_amplitudes=Index_amplitudes[:perc]\n",
    "    A1=np.zeros(len(Amplitudes)) \n",
    "    P1=np.zeros(len(Amplitudes))\n",
    "    UAP1=np.zeros(Uncert.shape)\n",
    "    range_F=N = Uncert.shape[0]-2\n",
    "    for i in N_highest_amplitudes:\n",
    "        A1[i]=Amplitudes[i] # assigned values of amplitudes on indices of N% amplitudes \n",
    "        P1[i]=Phases[i]  # assigned values of phases on indices of N% amplitudes \n",
    "        UAP1[i,i]=Uncert[i,i]                             # Covariance matrix contains uncertainties of amplitudes, phases and \n",
    "        UAP1[i,i+range_F//2+1]=Uncert[i,i+range_F//2+1]   # covariance uncertainties of amplitudes and phases.\n",
    "        UAP1[i+range_F//2+1,i+range_F//2+1]=Uncert[i+range_F//2+1,i+range_F//2+1]         \n",
    "    x,ux=PyDynamic.uncertainty.propagate_DFT.AmpPhase2Time(A1,P1,UAP1)\n",
    "    return x,ux"
   ]
  },
  {
   "cell_type": "code",
   "execution_count": null,
   "metadata": {},
   "outputs": [],
   "source": [
    "D=int(input(\"Enter the percentage of choosen amplitudes (0-100):\"))\n",
    "x2,ux2=reconstructed_signal_with_AmpPhase2Time(A,P,UAP,D)"
   ]
  },
  {
   "cell_type": "code",
   "execution_count": null,
   "metadata": {},
   "outputs": [],
   "source": [
    "plt.plot(time_steps, df, label=\"Real values\")\n",
    "plt.ylabel(\"Microphone (Pa)\")\n",
    "plt.xlabel(\"Time (s)\")\n",
    "plt.errorbar(time_steps,x2,xerr=np.sqrt(np.diag(ux2)),label=\"Reconstructed values with DFT\")\n",
    "\n",
    "plt.xlim(0,1)\n",
    "plt.legend()"
   ]
  },
  {
   "cell_type": "markdown",
   "metadata": {},
   "source": [
    "### References:\n",
    "\n",
    "[1]  PTB, ZeMA, - Deep dive into the ZeMA machine learning (ppt), January 2019\n",
    "\n",
    "[2]  https://www.nti-audio.com/en/support/know-how/fast-fourier-transform-fft\n",
    "\n",
    "[3]  http://www.sthda.com/english/wiki/correlation-test-between-two-variables-in-r\n",
    "\n",
    "[4]  https://en.wikipedia.org/wiki/Pearson_correlation_coefficient\n",
    "\n",
    "[4]  Edouard Duchesnay, Tommy Löfstedt, - Statistics and Machine Learning in Python, March 2018\n",
    "\n",
    "[5]  https://pydynamic.readthedocs.io/en/master/Getting%20started.html#quick-examples\n",
    "\n",
    "[6]  https://en.wikipedia.org/wiki/Sparse_matrix\n",
    "\n",
    "[7]  S Eichstädt and V Wilkens, - GUM2DFT—a software tool for uncertainty evaluation of transient signals in the frequency domain, March 2016\n",
    "\n",
    "[8]  Allan V. Oppenheim, Ronald W. Schafer, John R.Buck - Discrete Time Signal Processing , 1999\n",
    "\n",
    "[9]  https://dsp.stackexchange.com/questions/69/why-is-the-fourier-transform-so-important\n",
    "\n"
   ]
  }
 ],
 "metadata": {
  "kernelspec": {
   "display_name": "Python 3",
   "language": "python",
   "name": "python3"
  },
  "language_info": {
   "codemirror_mode": {
    "name": "ipython",
    "version": 3
   },
   "file_extension": ".py",
   "mimetype": "text/x-python",
   "name": "python",
   "nbconvert_exporter": "python",
   "pygments_lexer": "ipython3",
   "version": "3.7.3"
  }
 },
 "nbformat": 4,
 "nbformat_minor": 2
}
