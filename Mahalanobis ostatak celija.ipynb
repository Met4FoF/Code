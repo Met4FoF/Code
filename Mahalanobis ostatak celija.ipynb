{
 "cells": [
  {
   "cell_type": "code",
   "execution_count": null,
   "metadata": {},
   "outputs": [],
   "source": [
    "unique_elements, counts = np.unique(y_train, return_counts=True)\n",
    "\n",
    "# Initialising list for Mahalanobis distance calculation.\n",
    "X_train_splitted=list(np.zeros(len(np.unique(y_train))))\n",
    "    \n",
    "# Initialising 100 matrices (one for each class label) in list \"X_train_splitted\".\n",
    "for i in range(len(counts)):\n",
    "    X_train_splitted[i]=np.zeros((counts[i],X_train_dim_reduced.shape[1])) \n",
    "                                        # Counts[i] = number of rows for each class.\n",
    "                                        # Y_train_dim_reduced.shape[1] = number of columns (same for every class).\n",
    "    \n",
    "# Each matrix is data that belongs to one class represented by \"unique_elements\" array, respectively.\n",
    "\n",
    "# Filling matrices for each class with coresponding observations.\n",
    "# This loop checks all rows in training data-set, then checks class for that row, and based on that class,\n",
    "# puts that row into different groups.\n",
    "for j in np.int_(unique_elements):\n",
    "    k=0\n",
    "    for i in range(len(y_train)):\n",
    "        if y_train[i]==j:   \n",
    "            X_train_splitted[int(np.where(unique_elements==j)[0])][k,:]=X_train_dim_reduced[i,:] # j-1\n",
    "            k=k+1"
   ]
  }
 ],
 "metadata": {
  "kernelspec": {
   "display_name": "Python 3",
   "language": "python",
   "name": "python3"
  },
  "language_info": {
   "codemirror_mode": {
    "name": "ipython",
    "version": 3
   },
   "file_extension": ".py",
   "mimetype": "text/x-python",
   "name": "python",
   "nbconvert_exporter": "python",
   "pygments_lexer": "ipython3",
   "version": "3.6.8"
  }
 },
 "nbformat": 4,
 "nbformat_minor": 2
}
