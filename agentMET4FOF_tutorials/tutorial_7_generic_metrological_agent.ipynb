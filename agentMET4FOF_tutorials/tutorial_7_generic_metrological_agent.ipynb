{
 "cells": [
  {
   "cell_type": "markdown",
   "metadata": {},
   "source": [
    "# Tutorial 7 - Generating signals using a generic metrological agent\n",
    "\n",
    "In the present tutorial we demonstrate the creation of arbitrary metrologically enabled agents that generate signals according to a given function. agent network with three metrologically enabled agents, two of which are defined as objects of the\n",
    "`MetrologicalGeneratorAgent` class and the third is a single monitor agent that simultaneously plots the output of the first two agents. The first agent takes an input from an object of the\n",
    "`MetrologicalSineGenerator` class (ref. Tutorial 4) and the second from a `MetrologicalMultiwaveGenerator` object, which generates a signal given by a sum of cosines.\n",
    "\n",
    "The *MetrologicalGeneratorAgent* is based on the *agentMET4FOF.metrological_agents.MetrologicalAgent* class."
   ]
  },
  {
   "cell_type": "code",
   "execution_count": null,
   "metadata": {},
   "outputs": [],
   "source": [
    "from agentMET4FOF.agents import AgentNetwork\n",
    "from agentMET4FOF.metrological_agents import (\n",
    "    MetrologicalMonitorAgent,\n",
    "    MetrologicalGeneratorAgent,\n",
    ")\n",
    "from agentMET4FOF.metrological_streams import (\n",
    "    MetrologicalSineGenerator,\n",
    "    MetrologicalMultiWaveGenerator,\n",
    ")\n",
    "\n",
    "\n",
    "def demonstrate_metrological_stream():\n",
    "    # start agent network server\n",
    "    agent_network = AgentNetwork(dashboard_modules=True)\n",
    "\n",
    "    # Initialize metrologically enabled agent with a multiwave (sum of cosines) generator as signal source.\n",
    "    # taking name from signal source metadata.\n",
    "    signal_multiwave = MetrologicalMultiWaveGenerator(quantity_names=\"Voltage\", quantity_units=\"V\")\n",
    "    source_name_multiwave = signal_multiwave.metadata.metadata[\"device_id\"]\n",
    "    source_agent_multiwave = agent_network.add_agent(\n",
    "        name=source_name_multiwave, agentType=MetrologicalGeneratorAgent\n",
    "    )\n",
    "    source_agent_multiwave.init_parameters(signal=signal_multiwave)\n",
    "\n",
    "    # Initialize second metrologically enabled agent with a sine generator as signal source\n",
    "    # taking name from signal source metadata.\n",
    "    signal_sine = MetrologicalSineGenerator()\n",
    "    source_name_sine = signal_sine.metadata.metadata[\"device_id\"]\n",
    "    source_agent_sine = agent_network.add_agent(\n",
    "        name=source_name_sine, agentType=MetrologicalGeneratorAgent\n",
    "    )\n",
    "    source_agent_sine.init_parameters(signal=signal_sine)\n",
    "\n",
    "    # Initialize metrologically enabled plotting agent.\n",
    "    monitor_agent = agent_network.add_agent(\n",
    "        \"MonitorAgent\", agentType=MetrologicalMonitorAgent, buffer_size=50,\n",
    "    )\n",
    "\n",
    "    # Bind agents.\n",
    "    source_agent_multiwave.bind_output(monitor_agent)\n",
    "    source_agent_sine.bind_output(monitor_agent)\n",
    "\n",
    "    # Set all agents states to \"Running\".\n",
    "    agent_network.set_running_state()\n",
    "\n",
    "    # Allow for shutting down the network after execution.\n",
    "    return agent_network\n",
    "\n",
    "\n",
    "if __name__ == \"__main__\":\n",
    "    demonstrate_metrological_stream()\n"
   ]
  },
  {
   "cell_type": "code",
   "execution_count": null,
   "metadata": {},
   "outputs": [],
   "source": []
  }
 ],
 "metadata": {
  "kernelspec": {
   "display_name": "Python 3",
   "language": "python",
   "name": "python3"
  },
  "language_info": {
   "codemirror_mode": {
    "name": "ipython",
    "version": 3
   },
   "file_extension": ".py",
   "mimetype": "text/x-python",
   "name": "python",
   "nbconvert_exporter": "python",
   "pygments_lexer": "ipython3",
   "version": "3.8.3"
  }
 },
 "nbformat": 4,
 "nbformat_minor": 4
}
