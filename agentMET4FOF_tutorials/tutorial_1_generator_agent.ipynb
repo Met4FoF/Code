{
 "cells": [
  {
   "cell_type": "markdown",
   "metadata": {
    "pycharm": {
     "name": "#%% md\n"
    }
   },
   "source": [
    "# Tutorial 1 - A simple pipeline to plot a signal\n",
    "\n",
    "First we define a simple pipeline of two agents, of which one will generate a signal \n",
    "(in our case a *SineGeneratorAgent*) and the other one plots the signal on the \n",
    "dashboard (this is always a *MonitorAgent*).\n",
    "\n",
    "We define a *SineGeneratorAgent* for which we have to override the \n",
    "functions `init_parameters()` & `agent_loop()` to define the new agent's behaviour.\n",
    "\n",
    "*   `init_parameters()` is used to setup the input data stream and potentially other \n",
    "necessary parameters.\n",
    "*   `agent_loop()` will be endlessly repeated until further notice. It will \n",
    "sample by sample extract the input data stream's content and push it to all agents \n",
    "connected to *SineGeneratorAgent*'s output channel by invoking `send_output()`.\n",
    "\n",
    "The *MonitorAgent* is connected to the *SineGeneratorAgent*'s output channel and per \n",
    "default automatically plots the output. \n",
    "\n",
    "Each agent has an internal `current_state` which can be used as a switch to change the \n",
    "behaviour of the agent. The available states are listed\n",
    "[here](https://github.com/bangxiangyong/agentMET4FOF/blob/a95b788544e8cce1e0bb757184da8c6447e96927/agentMET4FOF/agents.py#L78).\n",
    "\n",
    "As soon as all agents are initialized and the connections are set up, the agent \n",
    "network is started by accordingly changing all agents' state simultaneously."
   ]
  },
  {
   "cell_type": "code",
   "execution_count": null,
   "metadata": {
    "pycharm": {
     "is_executing": false,
     "name": "#%%\n"
    }
   },
   "outputs": [],
   "source": [
    "# %load tutorial_1_generator_agent.py\n",
    "from agentMET4FOF.agents import AgentMET4FOF, AgentNetwork, MonitorAgent\n",
    "from agentMET4FOF.streams import SineGenerator\n",
    "\n",
    "\n",
    "class SineGeneratorAgent(AgentMET4FOF):\n",
    "    \"\"\"An agent streaming a sine signal\n",
    "\n",
    "    Takes samples from the :py:mod:`SineGenerator` and pushes them sample by sample\n",
    "    to connected agents via its output channel.\n",
    "    \"\"\"\n",
    "    _sine_stream: SineGenerator\n",
    "\n",
    "    def init_parameters(self):\n",
    "        \"\"\"Initialize the input data\n",
    "\n",
    "        Initialize the input data stream as an instance of the\n",
    "        :py:mod:`SineGenerator` class\n",
    "        \"\"\"\n",
    "        self._sine_stream = SineGenerator()\n",
    "\n",
    "    def agent_loop(self):\n",
    "        \"\"\"Model the agent's behaviour\n",
    "\n",
    "        On state *Running* the agent will extract sample by sample the input data\n",
    "        streams content and push it via invoking :py:method:`AgentMET4FOF.send_output`.\n",
    "        \"\"\"\n",
    "        if self.current_state == \"Running\":\n",
    "            sine_data = self._sine_stream.next_sample()  # dictionary\n",
    "            self.send_output(sine_data[\"x\"])\n",
    "\n",
    "\n",
    "def demonstrate_generator_agent_use():\n",
    "    # Start agent network server.\n",
    "    agent_network = AgentNetwork()\n",
    "\n",
    "    # Initialize agents by adding them to the agent network.\n",
    "    gen_agent = agent_network.add_agent(agentType=SineGeneratorAgent)\n",
    "    monitor_agent = agent_network.add_agent(agentType=MonitorAgent)\n",
    "\n",
    "    # Interconnect agents by either way:\n",
    "    # 1) by agent network.bind_agents(source, target).\n",
    "    agent_network.bind_agents(gen_agent, monitor_agent)\n",
    "\n",
    "    # 2) by the agent.bind_output().\n",
    "    gen_agent.bind_output(monitor_agent)\n",
    "\n",
    "    # Set all agents' states to \"Running\".\n",
    "    agent_network.set_running_state()\n",
    "\n",
    "    # Allow for shutting down the network after execution\n",
    "    return agent_network\n",
    "\n",
    "\n",
    "if __name__ == \"__main__\":\n",
    "    demonstrate_generator_agent_use()\n"
   ]
  }
 ],
 "metadata": {
  "kernelspec": {
   "display_name": "Python 3",
   "language": "python",
   "name": "python3"
  },
  "language_info": {
   "codemirror_mode": {
    "name": "ipython",
    "version": 3
   },
   "file_extension": ".py",
   "mimetype": "text/x-python",
   "name": "python",
   "nbconvert_exporter": "python",
   "pygments_lexer": "ipython3",
   "version": "3.7.5"
  },
  "pycharm": {
   "stem_cell": {
    "cell_type": "raw",
    "source": [],
    "metadata": {
     "collapsed": false
    }
   }
  }
 },
 "nbformat": 4,
 "nbformat_minor": 1
}