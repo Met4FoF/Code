{
 "cells": [
  {
   "cell_type": "markdown",
   "metadata": {
    "collapsed": true,
    "pycharm": {
     "name": "#%% md\n"
    }
   },
   "source": [
    "# Noise-Jitter Removal Agent – Remove noise and jitter from signals\n",
    "\n",
    "In this tutorial we generate a sine wave with a specified jitter which is supplied to an agent that adds noise to it in the form of a Gaussian distributed random variable. The noisy signal is then supplied to an agent that implements a noise and jitter removal algorithm to it. The outputs of both agents are supplied to separate monitor agents for visualization. The algorithm uses a Bayesian approach to estimate the parameters describing the levels of jitter and noise in the measured signal and the parameters of a model for the underlying ‘true’ signal. The parameters are then used to provide estimates of the values of the true signal. Since the Bayesian posterior distribution does not take a standard form, inferences about the parameters are made based on a sample derived from the posterior distribution using a Metropolis-Hastings (MH) Markov Chain Monte Carlo (MCMC) method. A detailed description of the algorithm and the involved methods can be found [here](https://github.com/Met4FoF/npl-jitter-noise-removal-mcmc#bayesian-noise-and-jitter-removal-algorithm--mcmcnj). \n",
    "\n",
    "The network and the calculated results can be monitored in a browser at the\n",
    "address http://127.0.0.1:8050/."
   ]
  },
  {
   "cell_type": "code",
   "execution_count": null,
   "metadata": {
    "pycharm": {
     "name": "#%%\n"
    }
   },
   "outputs": [],
   "source": [
    "%load remove_noise_and_jitter.py"
   ]
  }
 ],
 "metadata": {
  "kernelspec": {
   "display_name": "Python 3",
   "language": "python",
   "name": "python3"
  },
  "language_info": {
   "codemirror_mode": {
    "name": "ipython",
    "version": 2
   },
   "file_extension": ".py",
   "mimetype": "text/x-python",
   "name": "python",
   "nbconvert_exporter": "python",
   "pygments_lexer": "ipython2",
   "version": "2.7.6"
  }
 },
 "nbformat": 4,
 "nbformat_minor": 1
}
