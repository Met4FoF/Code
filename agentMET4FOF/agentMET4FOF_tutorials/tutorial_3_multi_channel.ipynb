{
 "cells": [
  {
   "cell_type": "markdown",
   "metadata": {
    "pycharm": {
     "name": "#%% md\n"
    }
   },
   "source": [
    "# Tutorial 3 - An advanced pipeline with multichannel signals.\n",
    "\n",
    "We can use different channels for the receiver  to handle specifically each channel \n",
    "name. This can be useful for example in splitting train and test channels in machine \n",
    "learning Then, the user will need to implement specific handling of each channel in \n",
    "the receiving agent.\n",
    " \n",
    "In this example, the *MultiGeneratorAgent* is used to send two different types of \n",
    "data - Sine and Cosine generator. This is done via specifying `send_output\n",
    "(channel=\"sine\")` and `send_output(channel=\"cosine\")`.\n",
    "\n",
    "Then on the receiving end, the `on_received_message()` function checks for \n",
    "`message['channel']` to handle it separately.\n",
    "\n",
    "Note that by default, *MonitorAgent* is only subscribed to the `\"default\"` channel. \n",
    "Hence it will not respond to the `\"cosine\"` and `\"sine\"` channel."
   ]
  },
  {
   "cell_type": "code",
   "execution_count": 1,
   "metadata": {
    "pycharm": {
     "name": "#%%\n"
    }
   },
   "outputs": [
    {
     "name": "stdout",
     "output_type": "stream",
     "text": [
      "Starting NameServer...\n",
      "Broadcast server running on 0.0.0.0:9091\n",
      "NS running on 127.0.0.1:3333 (127.0.0.1)\n",
      "URI = PYRO:Pyro.NameServer@127.0.0.1:3333\n",
      "INFO [2020-07-08 20:15:03.999193] (AgentController): INITIALIZED\n",
      "INFO [2020-07-08 20:15:04.160762] (MultiGeneratorAgent_1): INITIALIZED\n",
      "Dash is running on http://127.0.0.1:8050/\n",
      "\n",
      " Warning: This is a development server. Do not use app.run_server\n",
      " in production, use a production WSGI server like gunicorn instead.\n",
      "\n",
      " * Serving Flask app \"agentMET4FOF.dashboard.Dashboard\" (lazy loading)\n",
      " * Environment: production\n",
      "\u001B[31m   WARNING: This is a development server. Do not use it in a production deployment.\u001B[0m\n",
      "\u001B[2m   Use a production WSGI server instead.\u001B[0m\n",
      " * Debug mode: off\n",
      "INFO [2020-07-08 20:15:04.238194] (MultiOutputMathAgent_1): INITIALIZED\n",
      "INFO [2020-07-08 20:15:04.307723] (MonitorAgent_1): INITIALIZED\n",
      "[2020-07-08 20:15:04.364692] (MultiGeneratorAgent_1): Connected output module: MultiOutputMathAgent_1\n",
      "[2020-07-08 20:15:04.370956] (MultiGeneratorAgent_1): Connected output module: MonitorAgent_1\n",
      "[2020-07-08 20:15:04.379114] (MultiOutputMathAgent_1): Connected output module: MonitorAgent_1\n",
      "SET STATE:   Running\n",
      "[2020-07-08 20:15:05.171751] (MultiGeneratorAgent_1): Pack time: 0.000315\n",
      "[2020-07-08 20:15:05.172512] (MultiGeneratorAgent_1): Sending: [0.]\n",
      "[2020-07-08 20:15:05.173200] (MonitorAgent_1): Received: {'from': 'MultiGeneratorAgent_1', 'data': array([0.]), 'senderType': 'MultiGeneratorAgent', 'channel': 'sine'}\n",
      "[2020-07-08 20:15:05.175533] (MultiOutputMathAgent_1): Received: {'from': 'MultiGeneratorAgent_1', 'data': array([0.]), 'senderType': 'MultiGeneratorAgent', 'channel': 'sine'}\n",
      "[2020-07-08 20:15:05.172748] (MultiGeneratorAgent_1): Pack time: 0.000102\n",
      "[2020-07-08 20:15:05.173377] (MonitorAgent_1): Tproc: 5e-06\n",
      "[2020-07-08 20:15:05.175921] (MultiOutputMathAgent_1): Pack time: 0.00023\n",
      "[2020-07-08 20:15:05.173245] (MultiGeneratorAgent_1): Sending: [0.47942554]\n",
      "[2020-07-08 20:15:05.174524] (MonitorAgent_1): Received: {'from': 'MultiGeneratorAgent_1', 'data': array([0.47942554]), 'senderType': 'MultiGeneratorAgent', 'channel': 'cosine'}\n",
      "[2020-07-08 20:15:05.176514] (MultiOutputMathAgent_1): Sending: {'sine_plus': array([0.5])}\n",
      "[2020-07-08 20:15:05.176643] (MultiOutputMathAgent_1): Tproc: 0.000988\n",
      "[2020-07-08 20:15:05.174650] (MonitorAgent_1): Tproc: 5e-06\n",
      "[2020-07-08 20:15:05.177175] (MultiOutputMathAgent_1): Received: {'from': 'MultiGeneratorAgent_1', 'data': array([0.47942554]), 'senderType': 'MultiGeneratorAgent', 'channel': 'cosine'}\n",
      "[2020-07-08 20:15:05.178346] (MonitorAgent_1): Received: {'from': 'MultiOutputMathAgent_1', 'data': {'sine_plus': array([0.5])}, 'senderType': 'MultiOutputMathAgent', 'channel': 'default'}\n",
      "[2020-07-08 20:15:05.177369] (MultiOutputMathAgent_1): Pack time: 9.9e-05\n",
      "[2020-07-08 20:15:05.178461] (MonitorAgent_1): Tproc: 1.9e-05\n",
      "[2020-07-08 20:15:05.177650] (MultiOutputMathAgent_1): Sending: {'cosine_minus': array([-0.02057446])}\n",
      "[2020-07-08 20:15:05.178849] (MonitorAgent_1): Received: {'from': 'MultiOutputMathAgent_1', 'data': {'cosine_minus': array([-0.02057446])}, 'senderType': 'MultiOutputMathAgent', 'channel': 'default'}\n",
      "[2020-07-08 20:15:05.177710] (MultiOutputMathAgent_1): Tproc: 0.00046\n",
      "[2020-07-08 20:15:05.179303] (MonitorAgent_1): Memory: {'MultiOutputMathAgent_1': {'sine_plus': array([0.5]), 'cosine_minus': array([-0.02057446])}}\n",
      "[2020-07-08 20:15:05.179361] (MonitorAgent_1): Tproc: 0.000437\n"
     ]
    },
    {
     "name": "stderr",
     "output_type": "stream",
     "text": [
      " * Running on http://127.0.0.1:8050/ (Press CTRL+C to quit)\n",
      "127.0.0.1 - - [08/Jul/2020 22:15:05] \"\u001B[37mPOST /_dash-update-component HTTP/1.1\u001B[0m\" 204 -\n"
     ]
    }
   ],
   "source": [
    "# %load tutorial_3_multi_channel.py\n",
    "from agentMET4FOF.agents import AgentMET4FOF, AgentNetwork, MonitorAgent\n",
    "from agentMET4FOF.streams import SineGenerator, CosineGenerator\n",
    "\n",
    "\n",
    "class MultiGeneratorAgent(AgentMET4FOF):\n",
    "\n",
    "    _sine_stream: SineGenerator\n",
    "    _cos_stream: CosineGenerator\n",
    "\n",
    "    def init_parameters(self):\n",
    "        self._sine_stream = SineGenerator()\n",
    "        self._cos_stream = CosineGenerator()\n",
    "\n",
    "    def agent_loop(self):\n",
    "        if self.current_state == \"Running\":\n",
    "            sine_data = self._sine_stream.next_sample()  # dictionary\n",
    "            cosine_data = self._sine_stream.next_sample()  # dictionary\n",
    "            self.send_output(sine_data[\"x\"], channel=\"sine\")\n",
    "            self.send_output(cosine_data[\"x\"], channel=\"cosine\")\n",
    "\n",
    "\n",
    "class MultiOutputMathAgent(AgentMET4FOF):\n",
    "\n",
    "    _minus_param: float\n",
    "    _plus_param: float\n",
    "\n",
    "    def init_parameters(self, minus_param=0.5, plus_param=0.5):\n",
    "        self._minus_param = minus_param\n",
    "        self._plus_param = plus_param\n",
    "\n",
    "    def on_received_message(self, message):\n",
    "        \"\"\"\n",
    "        Checks for message['channel'] and handles them separately\n",
    "        Acceptable channels are \"cosine\" and \"sine\"\n",
    "        \"\"\"\n",
    "        if message[\"channel\"] == \"cosine\":\n",
    "            minus_data = self.minus(message[\"data\"], self._minus_param)\n",
    "            self.send_output({\"cosine_minus\": minus_data})\n",
    "        elif message[\"channel\"] == \"sine\":\n",
    "            plus_data = self.plus(message[\"data\"], self._plus_param)\n",
    "            self.send_output({\"sine_plus\": plus_data})\n",
    "\n",
    "    @staticmethod\n",
    "    def minus(data, minus_val):\n",
    "        return data - minus_val\n",
    "\n",
    "    @staticmethod\n",
    "    def plus(data, plus_val):\n",
    "        return data + plus_val\n",
    "\n",
    "\n",
    "def main():\n",
    "    # start agent network server\n",
    "    agentNetwork = AgentNetwork()\n",
    "    # init agents\n",
    "    gen_agent = agentNetwork.add_agent(agentType=MultiGeneratorAgent)\n",
    "    multi_math_agent = agentNetwork.add_agent(agentType=MultiOutputMathAgent)\n",
    "    monitor_agent = agentNetwork.add_agent(agentType=MonitorAgent)\n",
    "    # connect agents : We can connect multiple agents to any particular agent\n",
    "    # However the agent needs to implement handling multiple inputs\n",
    "    agentNetwork.bind_agents(gen_agent, multi_math_agent)\n",
    "    agentNetwork.bind_agents(gen_agent, monitor_agent)\n",
    "    agentNetwork.bind_agents(multi_math_agent, monitor_agent)\n",
    "    # set all agents states to \"Running\"\n",
    "    agentNetwork.set_running_state()\n",
    "\n",
    "    # allow for shutting down the network after execution\n",
    "    return agentNetwork\n",
    "\n",
    "\n",
    "if __name__ == \"__main__\":\n",
    "    main()"
   ]
  }
 ],
 "metadata": {
  "kernelspec": {
   "name": "python3",
   "language": "python",
   "display_name": "Python 3"
  },
  "language_info": {
   "codemirror_mode": {
    "name": "ipython",
    "version": 3
   },
   "file_extension": ".py",
   "mimetype": "text/x-python",
   "name": "python",
   "nbconvert_exporter": "python",
   "pygments_lexer": "ipython3",
   "version": "3.8.3"
  }
 },
 "nbformat": 4,
 "nbformat_minor": 1
}