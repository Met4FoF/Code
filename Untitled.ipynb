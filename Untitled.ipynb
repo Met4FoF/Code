{
 "cells": [
  {
   "cell_type": "markdown",
   "metadata": {},
   "source": [
    "In the previous notebook, Fourier transform was performed for all sensors and all cycles. All time signals were deduced the same length by adding the value of the last element at their original length. Amplitudes and uncertainties have been saved into .hdf5 file, which will be read in one of the next cells. Phases are neglected. 24 sensor have been taken into account."
   ]
  },
  {
   "cell_type": "code",
   "execution_count": 123,
   "metadata": {},
   "outputs": [
    {
     "name": "stdout",
     "output_type": "stream",
     "text": [
      "Requirement already satisfied: openpyxl in c:\\users\\jugo01\\appdata\\local\\continuum\\anaconda3\\envs\\zema\\lib\\site-packages (3.0.0)\n",
      "Requirement already satisfied: et-xmlfile in c:\\users\\jugo01\\appdata\\local\\continuum\\anaconda3\\envs\\zema\\lib\\site-packages (from openpyxl) (1.0.1)\n",
      "Requirement already satisfied: jdcal in c:\\users\\jugo01\\appdata\\local\\continuum\\anaconda3\\envs\\zema\\lib\\site-packages (from openpyxl) (1.4.1)\n",
      "Note: you may need to restart the kernel to use updated packages.\n"
     ]
    },
    {
     "name": "stderr",
     "output_type": "stream",
     "text": [
      "C:\\Users\\jugo01\\AppData\\Local\\Continuum\\anaconda3\\envs\\Zema\\lib\\site-packages\\IPython\\utils\\_process_win32.py:131: ResourceWarning: unclosed file <_io.BufferedWriter name=8>\n",
      "  return process_handler(cmd, _system_body)\n",
      "ResourceWarning: Enable tracemalloc to get the object allocation traceback\n",
      "C:\\Users\\jugo01\\AppData\\Local\\Continuum\\anaconda3\\envs\\Zema\\lib\\site-packages\\IPython\\utils\\_process_win32.py:131: ResourceWarning: unclosed file <_io.BufferedReader name=9>\n",
      "  return process_handler(cmd, _system_body)\n",
      "ResourceWarning: Enable tracemalloc to get the object allocation traceback\n",
      "C:\\Users\\jugo01\\AppData\\Local\\Continuum\\anaconda3\\envs\\Zema\\lib\\site-packages\\IPython\\utils\\_process_win32.py:131: ResourceWarning: unclosed file <_io.BufferedReader name=10>\n",
      "  return process_handler(cmd, _system_body)\n",
      "ResourceWarning: Enable tracemalloc to get the object allocation traceback\n"
     ]
    }
   ],
   "source": [
    "import pandas as pd \n",
    "import time\n",
    "%pip install openpyxl\n",
    "from pathlib import Path\n",
    "import matplotlib.pyplot as plt\n",
    "%matplotlib inline\n",
    "import matplotlib as mpl\n",
    "import numpy as np\n",
    "np.random.seed(42)\n",
    "from scipy.signal import find_peaks\n",
    "from scipy import integrate\n",
    "import matplotlib.cm as cm\n",
    "from mpl_toolkits.mplot3d import Axes3D\n",
    "import ipywidgets as widgets\n",
    "from ipywidgets import interact, interact_manual\n",
    "from matplotlib._png import read_png\n",
    "from matplotlib.cbook import get_sample_data\n",
    "import h5py\n",
    "import PyDynamic\n",
    "font = {'family' : 'Times New Roman', 'weight' : 'normal', 'size'   : 20}\n",
    "mpl.rcParams['figure.figsize'] = (20,10)\n",
    "mpl.rc('font', **font)"
   ]
  },
  {
   "cell_type": "code",
   "execution_count": 2,
   "metadata": {},
   "outputs": [],
   "source": [
    "\n",
    "hf_a = h5py.File('Amplitudes.hdf5', 'r')\n",
    "hf_uap=h5py.File('Uncertainties.hdf5', 'r')"
   ]
  },
  {
   "cell_type": "code",
   "execution_count": 17,
   "metadata": {},
   "outputs": [],
   "source": [
    "A_df=[None]*24\n",
    "UAP_df=[None]*24\n",
    "for i in range(24):\n",
    "    A_df[i]=hf_a[\"A_df\"+str(i)]\n",
    "    UAP_df[i]=hf_uap[\"UAP\"+str(i)]\n",
    "    A_df[i]=pd.DataFrame(A_df[i])\n",
    "    UAP_df[i]=pd.DataFrame(UAP_df[i])"
   ]
  },
  {
   "cell_type": "markdown",
   "metadata": {},
   "source": [
    "In this part, two ways of feature extraction will be presented. One approach is to calculate the means of all amplitudes at given frequencies (columns) and to choose 200 of the highest ones. This will be done with the function `sort_amplitudes_and_uncertainties`. It will sort the amplitudes´ columns in descending order, according to their means. The number of columns of amplitudes corresponds also to the number of columns of their standard squared uncertainties in UAP. As mentioned before, phases and covariance between amplitudes and phases will be neglected. This means that only columns of uncertainties of amplitudes will be sorted in the way that they follow the columns of amplitudes for which they are calculated.\n",
    "If you want to sort the whole matrix of uncertainties, please have a look at ZEMA machine learning tutorials"
   ]
  },
  {
   "cell_type": "markdown",
   "metadata": {},
   "source": [
    "The length of time signals with padded values is 23853 (number of points) and sampling period is 0.01 s. This will serve us to get the frequencies for our amplitudes."
   ]
  },
  {
   "cell_type": "code",
   "execution_count": null,
   "metadata": {},
   "outputs": [],
   "source": [
    "n_of_sampling_pts=23853\n",
    "sample_period=0.01\n",
    "time=0.01*n_of_sampling_pts# number of sampling points\n",
    "time_steps=np.arange(0, time, 0.01)  \n",
    "freq=PyDynamic.uncertainty.propagate_DFT.GUM_DFTfreq(n_of_sampling_pts,float(time)/n_of_sampling_pts)"
   ]
  },
  {
   "cell_type": "code",
   "execution_count": 20,
   "metadata": {},
   "outputs": [],
   "source": [
    "def sort_amplitudes_and_uncertainties (N,Amp,U,freq):\n",
    "\n",
    "    Amp.columns = freq                    # Column labels are frequencies. \n",
    "    n_rows, n_columns=Amp.shape\n",
    "    print(\"\\nNumber of cycles is: %s, and number of features is: %s\" % (n_rows, n_columns))\n",
    "    # Calculating the average of absolute vales for each frequency (column).\n",
    "    average_values_from_columns=(Amp.mean())\n",
    "    # Sorting column indices in amplitudes for sorting phases and uncertainties\n",
    "    sorted_columns=np.argsort(average_values_from_columns)[::-1]\n",
    "    # Reindexing all matrices based on columns.\n",
    "    Amp=Amp.reindex(Amp.mean().sort_values(ascending=False).index, axis=1)\n",
    "    c=U.reindex(columns=sorted_columns)\n",
    "    # Taking first N percent columns from sorted amplitudes,phases and ucertainties. \n",
    "    sorted_values_amp=Amp.iloc[:,:N]\n",
    "    sorted_values_uncert_aa=c.iloc[:,:N]                                           \n",
    "    n_rows, n_columns = np.shape(sorted_values_amp)\n",
    "    print(\"\\nNumber of cycles is: %s, and number of selected features is: %s\" % (n_rows, n_columns))\n",
    "    print(np.shape(sorted_values_amp))\n",
    "    \n",
    "    # Informations about the selected frequencies are columns in sorted data frame. \n",
    "    freq_of_sorted_values=(pd.DataFrame(sorted_values_amp.columns)).transpose()\n",
    "    print(\"\\nFirst 200 selected frequencies are:\\n\\n %s\" % freq_of_sorted_values.values[:,:N])\n",
    "    \n",
    "    # Resetting the column labels.\n",
    "    sorted_values_amp.columns=range(N)\n",
    "    sorted_values_uncert_aa.columns=range(N)\n",
    "\n",
    "    print(\"---------------------------------------------------------------------------------\\n\")\n",
    "    # Output \"sorted_values_matrix\" is data frame whose rows-\n",
    "    # -are cycles and columns are selected frequencies. For example,- \n",
    "    # -value at position (i,j) is amplitude for frequency j in cycle i.\n",
    "    return freq_of_sorted_values,sorted_values_amp,sorted_values_uncert_aa\n",
    "    \n",
    "   "
   ]
  },
  {
   "cell_type": "markdown",
   "metadata": {},
   "source": [
    "##### Function execution"
   ]
  },
  {
   "cell_type": "code",
   "execution_count": null,
   "metadata": {},
   "outputs": [],
   "source": [
    "freq_of_sorted_values=[None]*24\n",
    "sorted_values_amp=[None]*24\n",
    "sorted_values_uncert_aa=[None]*24\n",
    "for i in range(24):\n",
    "    print(\"Sensor:\",i)\n",
    "    freq_of_sorted_values[i],sorted_values_amp[i],sorted_values_uncert_aa[i] =sort_amplitudes_and_uncertainties(200,A_df[i],UAP_df[i],freq)\n"
   ]
  },
  {
   "cell_type": "markdown",
   "metadata": {},
   "source": [
    "##### An overwiev of the results:"
   ]
  },
  {
   "cell_type": "code",
   "execution_count": 32,
   "metadata": {},
   "outputs": [
    {
     "data": {
      "text/html": [
       "<div>\n",
       "<style scoped>\n",
       "    .dataframe tbody tr th:only-of-type {\n",
       "        vertical-align: middle;\n",
       "    }\n",
       "\n",
       "    .dataframe tbody tr th {\n",
       "        vertical-align: top;\n",
       "    }\n",
       "\n",
       "    .dataframe thead th {\n",
       "        text-align: right;\n",
       "    }\n",
       "</style>\n",
       "<table border=\"1\" class=\"dataframe\">\n",
       "  <thead>\n",
       "    <tr style=\"text-align: right;\">\n",
       "      <th></th>\n",
       "      <th>0</th>\n",
       "      <th>1</th>\n",
       "      <th>2</th>\n",
       "      <th>3</th>\n",
       "      <th>4</th>\n",
       "      <th>5</th>\n",
       "      <th>6</th>\n",
       "      <th>7</th>\n",
       "      <th>8</th>\n",
       "      <th>9</th>\n",
       "      <th>...</th>\n",
       "      <th>190</th>\n",
       "      <th>191</th>\n",
       "      <th>192</th>\n",
       "      <th>193</th>\n",
       "      <th>194</th>\n",
       "      <th>195</th>\n",
       "      <th>196</th>\n",
       "      <th>197</th>\n",
       "      <th>198</th>\n",
       "      <th>199</th>\n",
       "    </tr>\n",
       "  </thead>\n",
       "  <tbody>\n",
       "    <tr>\n",
       "      <th>0</th>\n",
       "      <td>0.0</td>\n",
       "      <td>0.004192</td>\n",
       "      <td>0.008385</td>\n",
       "      <td>0.012577</td>\n",
       "      <td>0.016769</td>\n",
       "      <td>0.020962</td>\n",
       "      <td>0.025154</td>\n",
       "      <td>0.029346</td>\n",
       "      <td>0.033539</td>\n",
       "      <td>0.062885</td>\n",
       "      <td>...</td>\n",
       "      <td>0.880392</td>\n",
       "      <td>0.955855</td>\n",
       "      <td>0.67916</td>\n",
       "      <td>0.8762</td>\n",
       "      <td>0.46535</td>\n",
       "      <td>0.628852</td>\n",
       "      <td>0.872008</td>\n",
       "      <td>0.461158</td>\n",
       "      <td>0.960047</td>\n",
       "      <td>0.867815</td>\n",
       "    </tr>\n",
       "  </tbody>\n",
       "</table>\n",
       "<p>1 rows × 200 columns</p>\n",
       "</div>"
      ],
      "text/plain": [
       "   0         1         2         3         4         5         6         7    \\\n",
       "0  0.0  0.004192  0.008385  0.012577  0.016769  0.020962  0.025154  0.029346   \n",
       "\n",
       "        8         9    ...       190       191      192     193      194  \\\n",
       "0  0.033539  0.062885  ...  0.880392  0.955855  0.67916  0.8762  0.46535   \n",
       "\n",
       "        195       196       197       198       199  \n",
       "0  0.628852  0.872008  0.461158  0.960047  0.867815  \n",
       "\n",
       "[1 rows x 200 columns]"
      ]
     },
     "execution_count": 32,
     "metadata": {},
     "output_type": "execute_result"
    }
   ],
   "source": [
    "freq_of_sorted_values[0]"
   ]
  },
  {
   "cell_type": "code",
   "execution_count": 24,
   "metadata": {},
   "outputs": [
    {
     "data": {
      "text/html": [
       "<div>\n",
       "<style scoped>\n",
       "    .dataframe tbody tr th:only-of-type {\n",
       "        vertical-align: middle;\n",
       "    }\n",
       "\n",
       "    .dataframe tbody tr th {\n",
       "        vertical-align: top;\n",
       "    }\n",
       "\n",
       "    .dataframe thead th {\n",
       "        text-align: right;\n",
       "    }\n",
       "</style>\n",
       "<table border=\"1\" class=\"dataframe\">\n",
       "  <thead>\n",
       "    <tr style=\"text-align: right;\">\n",
       "      <th></th>\n",
       "      <th>0</th>\n",
       "      <th>1</th>\n",
       "      <th>2</th>\n",
       "      <th>3</th>\n",
       "      <th>4</th>\n",
       "      <th>5</th>\n",
       "      <th>6</th>\n",
       "      <th>7</th>\n",
       "      <th>8</th>\n",
       "      <th>9</th>\n",
       "      <th>...</th>\n",
       "      <th>190</th>\n",
       "      <th>191</th>\n",
       "      <th>192</th>\n",
       "      <th>193</th>\n",
       "      <th>194</th>\n",
       "      <th>195</th>\n",
       "      <th>196</th>\n",
       "      <th>197</th>\n",
       "      <th>198</th>\n",
       "      <th>199</th>\n",
       "    </tr>\n",
       "  </thead>\n",
       "  <tbody>\n",
       "    <tr>\n",
       "      <th>0</th>\n",
       "      <td>1.249238e+06</td>\n",
       "      <td>51306.973537</td>\n",
       "      <td>53465.062982</td>\n",
       "      <td>50077.198387</td>\n",
       "      <td>43944.777366</td>\n",
       "      <td>35803.955996</td>\n",
       "      <td>26863.011542</td>\n",
       "      <td>19877.496288</td>\n",
       "      <td>14093.935577</td>\n",
       "      <td>10246.881572</td>\n",
       "      <td>...</td>\n",
       "      <td>341.597260</td>\n",
       "      <td>302.235587</td>\n",
       "      <td>389.791248</td>\n",
       "      <td>328.583549</td>\n",
       "      <td>205.511337</td>\n",
       "      <td>210.569863</td>\n",
       "      <td>306.475118</td>\n",
       "      <td>222.118724</td>\n",
       "      <td>313.316411</td>\n",
       "      <td>262.960888</td>\n",
       "    </tr>\n",
       "    <tr>\n",
       "      <th>1</th>\n",
       "      <td>1.223638e+06</td>\n",
       "      <td>57441.696887</td>\n",
       "      <td>56056.729517</td>\n",
       "      <td>49320.147866</td>\n",
       "      <td>43230.840841</td>\n",
       "      <td>35358.496399</td>\n",
       "      <td>28088.434045</td>\n",
       "      <td>21185.725938</td>\n",
       "      <td>14339.300355</td>\n",
       "      <td>10218.745979</td>\n",
       "      <td>...</td>\n",
       "      <td>326.662563</td>\n",
       "      <td>329.255534</td>\n",
       "      <td>378.107161</td>\n",
       "      <td>309.369474</td>\n",
       "      <td>202.427087</td>\n",
       "      <td>231.534302</td>\n",
       "      <td>312.247608</td>\n",
       "      <td>180.338220</td>\n",
       "      <td>257.488401</td>\n",
       "      <td>317.350591</td>\n",
       "    </tr>\n",
       "    <tr>\n",
       "      <th>2</th>\n",
       "      <td>1.218094e+06</td>\n",
       "      <td>57012.576362</td>\n",
       "      <td>55318.108580</td>\n",
       "      <td>49403.087842</td>\n",
       "      <td>43336.267482</td>\n",
       "      <td>35885.956632</td>\n",
       "      <td>28273.730166</td>\n",
       "      <td>20992.529060</td>\n",
       "      <td>14213.048936</td>\n",
       "      <td>10288.641351</td>\n",
       "      <td>...</td>\n",
       "      <td>305.288734</td>\n",
       "      <td>282.226938</td>\n",
       "      <td>366.584726</td>\n",
       "      <td>298.166621</td>\n",
       "      <td>215.295840</td>\n",
       "      <td>245.211505</td>\n",
       "      <td>320.283378</td>\n",
       "      <td>189.474659</td>\n",
       "      <td>285.823705</td>\n",
       "      <td>297.560980</td>\n",
       "    </tr>\n",
       "    <tr>\n",
       "      <th>3</th>\n",
       "      <td>1.212368e+06</td>\n",
       "      <td>57905.083459</td>\n",
       "      <td>55180.979514</td>\n",
       "      <td>49270.170948</td>\n",
       "      <td>43554.522687</td>\n",
       "      <td>35784.252708</td>\n",
       "      <td>28257.424171</td>\n",
       "      <td>21130.631859</td>\n",
       "      <td>14215.216753</td>\n",
       "      <td>10113.391527</td>\n",
       "      <td>...</td>\n",
       "      <td>320.613635</td>\n",
       "      <td>338.618514</td>\n",
       "      <td>287.164078</td>\n",
       "      <td>325.130693</td>\n",
       "      <td>222.482337</td>\n",
       "      <td>286.241996</td>\n",
       "      <td>286.540742</td>\n",
       "      <td>229.430275</td>\n",
       "      <td>263.471091</td>\n",
       "      <td>285.008480</td>\n",
       "    </tr>\n",
       "    <tr>\n",
       "      <th>4</th>\n",
       "      <td>1.208742e+06</td>\n",
       "      <td>57465.176212</td>\n",
       "      <td>54891.071438</td>\n",
       "      <td>49326.256917</td>\n",
       "      <td>43278.812100</td>\n",
       "      <td>35798.010753</td>\n",
       "      <td>27964.190220</td>\n",
       "      <td>20781.194235</td>\n",
       "      <td>14289.766698</td>\n",
       "      <td>10222.232682</td>\n",
       "      <td>...</td>\n",
       "      <td>284.648930</td>\n",
       "      <td>308.457474</td>\n",
       "      <td>322.824043</td>\n",
       "      <td>274.738220</td>\n",
       "      <td>182.497048</td>\n",
       "      <td>289.929567</td>\n",
       "      <td>262.405215</td>\n",
       "      <td>202.036392</td>\n",
       "      <td>297.717729</td>\n",
       "      <td>278.275469</td>\n",
       "    </tr>\n",
       "  </tbody>\n",
       "</table>\n",
       "<p>5 rows × 200 columns</p>\n",
       "</div>"
      ],
      "text/plain": [
       "            0             1             2             3             4    \\\n",
       "0  1.249238e+06  51306.973537  53465.062982  50077.198387  43944.777366   \n",
       "1  1.223638e+06  57441.696887  56056.729517  49320.147866  43230.840841   \n",
       "2  1.218094e+06  57012.576362  55318.108580  49403.087842  43336.267482   \n",
       "3  1.212368e+06  57905.083459  55180.979514  49270.170948  43554.522687   \n",
       "4  1.208742e+06  57465.176212  54891.071438  49326.256917  43278.812100   \n",
       "\n",
       "            5             6             7             8             9    ...  \\\n",
       "0  35803.955996  26863.011542  19877.496288  14093.935577  10246.881572  ...   \n",
       "1  35358.496399  28088.434045  21185.725938  14339.300355  10218.745979  ...   \n",
       "2  35885.956632  28273.730166  20992.529060  14213.048936  10288.641351  ...   \n",
       "3  35784.252708  28257.424171  21130.631859  14215.216753  10113.391527  ...   \n",
       "4  35798.010753  27964.190220  20781.194235  14289.766698  10222.232682  ...   \n",
       "\n",
       "          190         191         192         193         194         195  \\\n",
       "0  341.597260  302.235587  389.791248  328.583549  205.511337  210.569863   \n",
       "1  326.662563  329.255534  378.107161  309.369474  202.427087  231.534302   \n",
       "2  305.288734  282.226938  366.584726  298.166621  215.295840  245.211505   \n",
       "3  320.613635  338.618514  287.164078  325.130693  222.482337  286.241996   \n",
       "4  284.648930  308.457474  322.824043  274.738220  182.497048  289.929567   \n",
       "\n",
       "          196         197         198         199  \n",
       "0  306.475118  222.118724  313.316411  262.960888  \n",
       "1  312.247608  180.338220  257.488401  317.350591  \n",
       "2  320.283378  189.474659  285.823705  297.560980  \n",
       "3  286.540742  229.430275  263.471091  285.008480  \n",
       "4  262.405215  202.036392  297.717729  278.275469  \n",
       "\n",
       "[5 rows x 200 columns]"
      ]
     },
     "execution_count": 24,
     "metadata": {},
     "output_type": "execute_result"
    }
   ],
   "source": [
    "sorted_values_amp[0].head()"
   ]
  },
  {
   "cell_type": "code",
   "execution_count": 25,
   "metadata": {},
   "outputs": [
    {
     "data": {
      "text/html": [
       "<div>\n",
       "<style scoped>\n",
       "    .dataframe tbody tr th:only-of-type {\n",
       "        vertical-align: middle;\n",
       "    }\n",
       "\n",
       "    .dataframe tbody tr th {\n",
       "        vertical-align: top;\n",
       "    }\n",
       "\n",
       "    .dataframe thead th {\n",
       "        text-align: right;\n",
       "    }\n",
       "</style>\n",
       "<table border=\"1\" class=\"dataframe\">\n",
       "  <thead>\n",
       "    <tr style=\"text-align: right;\">\n",
       "      <th></th>\n",
       "      <th>0</th>\n",
       "      <th>1</th>\n",
       "      <th>2</th>\n",
       "      <th>3</th>\n",
       "      <th>4</th>\n",
       "      <th>5</th>\n",
       "      <th>6</th>\n",
       "      <th>7</th>\n",
       "      <th>8</th>\n",
       "      <th>9</th>\n",
       "      <th>...</th>\n",
       "      <th>190</th>\n",
       "      <th>191</th>\n",
       "      <th>192</th>\n",
       "      <th>193</th>\n",
       "      <th>194</th>\n",
       "      <th>195</th>\n",
       "      <th>196</th>\n",
       "      <th>197</th>\n",
       "      <th>198</th>\n",
       "      <th>199</th>\n",
       "    </tr>\n",
       "  </thead>\n",
       "  <tbody>\n",
       "    <tr>\n",
       "      <th>0</th>\n",
       "      <td>238.53</td>\n",
       "      <td>119.265</td>\n",
       "      <td>119.265</td>\n",
       "      <td>119.265</td>\n",
       "      <td>119.265</td>\n",
       "      <td>119.265</td>\n",
       "      <td>119.265</td>\n",
       "      <td>119.265</td>\n",
       "      <td>119.265</td>\n",
       "      <td>119.265</td>\n",
       "      <td>...</td>\n",
       "      <td>119.265</td>\n",
       "      <td>119.265</td>\n",
       "      <td>119.265</td>\n",
       "      <td>119.265</td>\n",
       "      <td>119.265</td>\n",
       "      <td>119.265</td>\n",
       "      <td>119.265</td>\n",
       "      <td>119.265</td>\n",
       "      <td>119.265</td>\n",
       "      <td>119.265</td>\n",
       "    </tr>\n",
       "    <tr>\n",
       "      <th>1</th>\n",
       "      <td>238.53</td>\n",
       "      <td>119.265</td>\n",
       "      <td>119.265</td>\n",
       "      <td>119.265</td>\n",
       "      <td>119.265</td>\n",
       "      <td>119.265</td>\n",
       "      <td>119.265</td>\n",
       "      <td>119.265</td>\n",
       "      <td>119.265</td>\n",
       "      <td>119.265</td>\n",
       "      <td>...</td>\n",
       "      <td>119.265</td>\n",
       "      <td>119.265</td>\n",
       "      <td>119.265</td>\n",
       "      <td>119.265</td>\n",
       "      <td>119.265</td>\n",
       "      <td>119.265</td>\n",
       "      <td>119.265</td>\n",
       "      <td>119.265</td>\n",
       "      <td>119.265</td>\n",
       "      <td>119.265</td>\n",
       "    </tr>\n",
       "    <tr>\n",
       "      <th>2</th>\n",
       "      <td>238.53</td>\n",
       "      <td>119.265</td>\n",
       "      <td>119.265</td>\n",
       "      <td>119.265</td>\n",
       "      <td>119.265</td>\n",
       "      <td>119.265</td>\n",
       "      <td>119.265</td>\n",
       "      <td>119.265</td>\n",
       "      <td>119.265</td>\n",
       "      <td>119.265</td>\n",
       "      <td>...</td>\n",
       "      <td>119.265</td>\n",
       "      <td>119.265</td>\n",
       "      <td>119.265</td>\n",
       "      <td>119.265</td>\n",
       "      <td>119.265</td>\n",
       "      <td>119.265</td>\n",
       "      <td>119.265</td>\n",
       "      <td>119.265</td>\n",
       "      <td>119.265</td>\n",
       "      <td>119.265</td>\n",
       "    </tr>\n",
       "    <tr>\n",
       "      <th>3</th>\n",
       "      <td>238.53</td>\n",
       "      <td>119.265</td>\n",
       "      <td>119.265</td>\n",
       "      <td>119.265</td>\n",
       "      <td>119.265</td>\n",
       "      <td>119.265</td>\n",
       "      <td>119.265</td>\n",
       "      <td>119.265</td>\n",
       "      <td>119.265</td>\n",
       "      <td>119.265</td>\n",
       "      <td>...</td>\n",
       "      <td>119.265</td>\n",
       "      <td>119.265</td>\n",
       "      <td>119.265</td>\n",
       "      <td>119.265</td>\n",
       "      <td>119.265</td>\n",
       "      <td>119.265</td>\n",
       "      <td>119.265</td>\n",
       "      <td>119.265</td>\n",
       "      <td>119.265</td>\n",
       "      <td>119.265</td>\n",
       "    </tr>\n",
       "    <tr>\n",
       "      <th>4</th>\n",
       "      <td>238.53</td>\n",
       "      <td>119.265</td>\n",
       "      <td>119.265</td>\n",
       "      <td>119.265</td>\n",
       "      <td>119.265</td>\n",
       "      <td>119.265</td>\n",
       "      <td>119.265</td>\n",
       "      <td>119.265</td>\n",
       "      <td>119.265</td>\n",
       "      <td>119.265</td>\n",
       "      <td>...</td>\n",
       "      <td>119.265</td>\n",
       "      <td>119.265</td>\n",
       "      <td>119.265</td>\n",
       "      <td>119.265</td>\n",
       "      <td>119.265</td>\n",
       "      <td>119.265</td>\n",
       "      <td>119.265</td>\n",
       "      <td>119.265</td>\n",
       "      <td>119.265</td>\n",
       "      <td>119.265</td>\n",
       "    </tr>\n",
       "  </tbody>\n",
       "</table>\n",
       "<p>5 rows × 200 columns</p>\n",
       "</div>"
      ],
      "text/plain": [
       "      0        1        2        3        4        5        6        7    \\\n",
       "0  238.53  119.265  119.265  119.265  119.265  119.265  119.265  119.265   \n",
       "1  238.53  119.265  119.265  119.265  119.265  119.265  119.265  119.265   \n",
       "2  238.53  119.265  119.265  119.265  119.265  119.265  119.265  119.265   \n",
       "3  238.53  119.265  119.265  119.265  119.265  119.265  119.265  119.265   \n",
       "4  238.53  119.265  119.265  119.265  119.265  119.265  119.265  119.265   \n",
       "\n",
       "       8        9    ...      190      191      192      193      194  \\\n",
       "0  119.265  119.265  ...  119.265  119.265  119.265  119.265  119.265   \n",
       "1  119.265  119.265  ...  119.265  119.265  119.265  119.265  119.265   \n",
       "2  119.265  119.265  ...  119.265  119.265  119.265  119.265  119.265   \n",
       "3  119.265  119.265  ...  119.265  119.265  119.265  119.265  119.265   \n",
       "4  119.265  119.265  ...  119.265  119.265  119.265  119.265  119.265   \n",
       "\n",
       "       195      196      197      198      199  \n",
       "0  119.265  119.265  119.265  119.265  119.265  \n",
       "1  119.265  119.265  119.265  119.265  119.265  \n",
       "2  119.265  119.265  119.265  119.265  119.265  \n",
       "3  119.265  119.265  119.265  119.265  119.265  \n",
       "4  119.265  119.265  119.265  119.265  119.265  \n",
       "\n",
       "[5 rows x 200 columns]"
      ]
     },
     "execution_count": 25,
     "metadata": {},
     "output_type": "execute_result"
    }
   ],
   "source": [
    "sorted_values_uncert_aa[0].head()"
   ]
  },
  {
   "cell_type": "markdown",
   "metadata": {},
   "source": [
    "Then, an arbitrary column of measured data for all parts will be taken (because of simplicity) from the file CMMData.xlsx. For example, it will be 38 dia @200 (external diameter at 200 mm from the left)."
   ]
  },
  {
   "cell_type": "code",
   "execution_count": 308,
   "metadata": {},
   "outputs": [
    {
     "name": "stderr",
     "output_type": "stream",
     "text": [
      "C:\\Users\\jugo01\\AppData\\Local\\Continuum\\anaconda3\\envs\\Zema\\lib\\site-packages\\xlrd\\xlsx.py:266: PendingDeprecationWarning: This method will be removed in future versions.  Use 'tree.iter()' or 'list(tree.iter())' instead.\n",
      "  for elem in self.tree.iter() if Element_has_iter else self.tree.getiterator():\n",
      "C:\\Users\\jugo01\\AppData\\Local\\Continuum\\anaconda3\\envs\\Zema\\lib\\site-packages\\xlrd\\xlsx.py:312: PendingDeprecationWarning: This method will be removed in future versions.  Use 'tree.iter()' or 'list(tree.iter())' instead.\n",
      "  for elem in self.tree.iter() if Element_has_iter else self.tree.getiterator():\n"
     ]
    }
   ],
   "source": [
    "measured_part=pd.read_excel(Path('Data')/'AFRC Radial Forge - Zenodoo Upload v3'/'CMMData.xlsx')"
   ]
  },
  {
   "cell_type": "code",
   "execution_count": 309,
   "metadata": {},
   "outputs": [
    {
     "data": {
      "text/html": [
       "<div>\n",
       "<style scoped>\n",
       "    .dataframe tbody tr th:only-of-type {\n",
       "        vertical-align: middle;\n",
       "    }\n",
       "\n",
       "    .dataframe tbody tr th {\n",
       "        vertical-align: top;\n",
       "    }\n",
       "\n",
       "    .dataframe thead th {\n",
       "        text-align: right;\n",
       "    }\n",
       "</style>\n",
       "<table border=\"1\" class=\"dataframe\">\n",
       "  <thead>\n",
       "    <tr style=\"text-align: right;\">\n",
       "      <th></th>\n",
       "      <th>Unnamed: 0</th>\n",
       "      <th>Unnamed: 1</th>\n",
       "      <th>Unnamed: 2</th>\n",
       "      <th>Unnamed: 3</th>\n",
       "      <th>ID @100</th>\n",
       "      <th>ID @55</th>\n",
       "      <th>38 dia @200</th>\n",
       "      <th>42 dia @140</th>\n",
       "      <th>42 dia @80</th>\n",
       "      <th>Base angle F</th>\n",
       "      <th>...</th>\n",
       "      <th>162mm taper F</th>\n",
       "      <th>162mm taper BR</th>\n",
       "      <th>162mm taper BL</th>\n",
       "      <th>40.5mm taper F</th>\n",
       "      <th>40.5mm taper BR</th>\n",
       "      <th>40.5mm taper BL</th>\n",
       "      <th>Top1</th>\n",
       "      <th>Top2</th>\n",
       "      <th>Top3</th>\n",
       "      <th>Top4</th>\n",
       "    </tr>\n",
       "  </thead>\n",
       "  <tbody>\n",
       "    <tr>\n",
       "      <th>0</th>\n",
       "      <td>NaN</td>\n",
       "      <td>NaN</td>\n",
       "      <td>NaN</td>\n",
       "      <td>NaN</td>\n",
       "      <td>30.000</td>\n",
       "      <td>30.000</td>\n",
       "      <td>38.000</td>\n",
       "      <td>42.000</td>\n",
       "      <td>42.000</td>\n",
       "      <td>70.000</td>\n",
       "      <td>...</td>\n",
       "      <td>162.000</td>\n",
       "      <td>162.000</td>\n",
       "      <td>162.000</td>\n",
       "      <td>40.500</td>\n",
       "      <td>40.500</td>\n",
       "      <td>40.500</td>\n",
       "      <td>222.000</td>\n",
       "      <td>222.000</td>\n",
       "      <td>222.000</td>\n",
       "      <td>222.000</td>\n",
       "    </tr>\n",
       "    <tr>\n",
       "      <th>1</th>\n",
       "      <td>NaN</td>\n",
       "      <td>NaN</td>\n",
       "      <td>NaN</td>\n",
       "      <td>NaN</td>\n",
       "      <td>0.300</td>\n",
       "      <td>0.300</td>\n",
       "      <td>0.400</td>\n",
       "      <td>0.400</td>\n",
       "      <td>0.400</td>\n",
       "      <td>1.000</td>\n",
       "      <td>...</td>\n",
       "      <td>1.000</td>\n",
       "      <td>1.000</td>\n",
       "      <td>1.000</td>\n",
       "      <td>1.000</td>\n",
       "      <td>1.000</td>\n",
       "      <td>1.000</td>\n",
       "      <td>15.000</td>\n",
       "      <td>15.000</td>\n",
       "      <td>15.000</td>\n",
       "      <td>15.000</td>\n",
       "    </tr>\n",
       "    <tr>\n",
       "      <th>2</th>\n",
       "      <td>NaN</td>\n",
       "      <td>NaN</td>\n",
       "      <td>NaN</td>\n",
       "      <td>Part ID</td>\n",
       "      <td>-0.300</td>\n",
       "      <td>-0.300</td>\n",
       "      <td>-0.400</td>\n",
       "      <td>-0.400</td>\n",
       "      <td>-0.400</td>\n",
       "      <td>-1.000</td>\n",
       "      <td>...</td>\n",
       "      <td>-1.000</td>\n",
       "      <td>-1.000</td>\n",
       "      <td>-1.000</td>\n",
       "      <td>-1.000</td>\n",
       "      <td>-1.000</td>\n",
       "      <td>-1.000</td>\n",
       "      <td>-5.000</td>\n",
       "      <td>-5.000</td>\n",
       "      <td>-5.000</td>\n",
       "      <td>-5.000</td>\n",
       "    </tr>\n",
       "    <tr>\n",
       "      <th>3</th>\n",
       "      <td>31/10/2017</td>\n",
       "      <td>14:52:40</td>\n",
       "      <td>57.0</td>\n",
       "      <td>1</td>\n",
       "      <td>29.850</td>\n",
       "      <td>29.550</td>\n",
       "      <td>38.040</td>\n",
       "      <td>41.970</td>\n",
       "      <td>42.156</td>\n",
       "      <td>70.262</td>\n",
       "      <td>...</td>\n",
       "      <td>161.584</td>\n",
       "      <td>161.679</td>\n",
       "      <td>161.618</td>\n",
       "      <td>40.629</td>\n",
       "      <td>40.679</td>\n",
       "      <td>40.693</td>\n",
       "      <td>232.279</td>\n",
       "      <td>234.225</td>\n",
       "      <td>233.071</td>\n",
       "      <td>233.112</td>\n",
       "    </tr>\n",
       "    <tr>\n",
       "      <th>4</th>\n",
       "      <td>31/10/2017</td>\n",
       "      <td>15:10:33</td>\n",
       "      <td>58.0</td>\n",
       "      <td>2</td>\n",
       "      <td>29.853</td>\n",
       "      <td>29.564</td>\n",
       "      <td>38.036</td>\n",
       "      <td>41.963</td>\n",
       "      <td>42.154</td>\n",
       "      <td>70.181</td>\n",
       "      <td>...</td>\n",
       "      <td>161.672</td>\n",
       "      <td>161.565</td>\n",
       "      <td>161.708</td>\n",
       "      <td>40.685</td>\n",
       "      <td>40.623</td>\n",
       "      <td>40.466</td>\n",
       "      <td>233.213</td>\n",
       "      <td>233.851</td>\n",
       "      <td>232.667</td>\n",
       "      <td>234.183</td>\n",
       "    </tr>\n",
       "  </tbody>\n",
       "</table>\n",
       "<p>5 rows × 22 columns</p>\n",
       "</div>"
      ],
      "text/plain": [
       "   Unnamed: 0 Unnamed: 1  Unnamed: 2 Unnamed: 3  ID @100  ID @55  38 dia @200  \\\n",
       "0         NaN        NaN         NaN        NaN   30.000  30.000       38.000   \n",
       "1         NaN        NaN         NaN        NaN    0.300   0.300        0.400   \n",
       "2         NaN        NaN         NaN    Part ID   -0.300  -0.300       -0.400   \n",
       "3  31/10/2017   14:52:40        57.0          1   29.850  29.550       38.040   \n",
       "4  31/10/2017   15:10:33        58.0          2   29.853  29.564       38.036   \n",
       "\n",
       "   42 dia @140  42 dia @80  Base angle F  ...  162mm taper F  162mm taper BR  \\\n",
       "0       42.000      42.000        70.000  ...        162.000         162.000   \n",
       "1        0.400       0.400         1.000  ...          1.000           1.000   \n",
       "2       -0.400      -0.400        -1.000  ...         -1.000          -1.000   \n",
       "3       41.970      42.156        70.262  ...        161.584         161.679   \n",
       "4       41.963      42.154        70.181  ...        161.672         161.565   \n",
       "\n",
       "   162mm taper BL  40.5mm taper F  40.5mm taper BR  40.5mm taper BL     Top1  \\\n",
       "0         162.000          40.500           40.500           40.500  222.000   \n",
       "1           1.000           1.000            1.000            1.000   15.000   \n",
       "2          -1.000          -1.000           -1.000           -1.000   -5.000   \n",
       "3         161.618          40.629           40.679           40.693  232.279   \n",
       "4         161.708          40.685           40.623           40.466  233.213   \n",
       "\n",
       "      Top2     Top3     Top4  \n",
       "0  222.000  222.000  222.000  \n",
       "1   15.000   15.000   15.000  \n",
       "2   -5.000   -5.000   -5.000  \n",
       "3  234.225  233.071  233.112  \n",
       "4  233.851  232.667  234.183  \n",
       "\n",
       "[5 rows x 22 columns]"
      ]
     },
     "execution_count": 309,
     "metadata": {},
     "output_type": "execute_result"
    }
   ],
   "source": [
    "measured_part.head()"
   ]
  },
  {
   "cell_type": "markdown",
   "metadata": {},
   "source": [
    "First three columns of `measured_part` are the nominal value and tolerances. These will be dropped, because only measured data of the parts is needed."
   ]
  },
  {
   "cell_type": "code",
   "execution_count": 96,
   "metadata": {},
   "outputs": [
    {
     "data": {
      "text/plain": [
       "3     38.040\n",
       "4     38.036\n",
       "5     38.024\n",
       "6     38.017\n",
       "7     38.007\n",
       "       ...  \n",
       "79    38.023\n",
       "80    38.019\n",
       "81    38.014\n",
       "82    38.016\n",
       "83    38.001\n",
       "Name: 38 dia @200, Length: 81, dtype: float64"
      ]
     },
     "execution_count": 96,
     "metadata": {},
     "output_type": "execute_result"
    }
   ],
   "source": [
    "target200=measured_part.iloc[3:,6]\n",
    "target200"
   ]
  },
  {
   "cell_type": "markdown",
   "metadata": {},
   "source": [
    "Pearson correlation between amplitudes at given frequencies (200 columns) and measured diameter at 200 mm from the left is performed in the following cell. "
   ]
  },
  {
   "cell_type": "code",
   "execution_count": 37,
   "metadata": {},
   "outputs": [],
   "source": [
    "corr_coefs=[None]*24\n",
    "column_indices=[None]*24\n",
    "for i in range(24):\n",
    "    corr_coefs[i]=sorted_values_amp[i].corrwith(other=target200)\n",
    "    column_indices[i]=np.argsort(np.abs(corr_coefs[i]))[::-1]"
   ]
  },
  {
   "cell_type": "markdown",
   "metadata": {},
   "source": [
    "Sensors with significant correlation coefficients will be identified."
   ]
  },
  {
   "cell_type": "code",
   "execution_count": 314,
   "metadata": {},
   "outputs": [
    {
     "data": {
      "application/vnd.jupyter.widget-view+json": {
       "model_id": "68e6c05e5307495ca6a3216db8022805",
       "version_major": 2,
       "version_minor": 0
      },
      "text/plain": [
       "interactive(children=(IntSlider(value=0, description='i', max=24), Output()), _dom_classes=('widget-interact',…"
      ]
     },
     "metadata": {},
     "output_type": "display_data"
    },
    {
     "data": {
      "text/plain": [
       "<function __main__.sensors_correlation(i)>"
      ]
     },
     "execution_count": 314,
     "metadata": {},
     "output_type": "execute_result"
    }
   ],
   "source": [
    "%matplotlib inline\n",
    "font = {'family' : 'Times New Roman', 'weight' : 'normal', 'size'   : 20}\n",
    "mpl.rcParams['figure.figsize'] = (20,15)\n",
    "mpl.rc('font', **font)\n",
    "def sensors_correlation(i):\n",
    "    num_of_sensor=['Power [kW]', 'Force [kN]', 'A_ges_vibr', 'Schlagzahl [1/min]','A_ACTpos [mm]', 'L_ACTpos [mm]', 'R_ACTpos [mm]','SBA_ActPos [mm]', 'A_ACT_Force [kN]', 'DB_ACT_Force [kN]','L_NOMpos [mm]', 'R_NOMpos [mm]', 'INDA_NOMpos [deg]','A_NOMpos [mm]', 'Frc_Volt', 'IP_ActPos [mm]', 'IP_NomPos','RamRetract_ActSpd [rpm]', 'ForgingBox_Temp', 'TMP_Ind_U1 [°C]','TMP_Ind_F [°C]', 'W2 Durchfluss [l]', 'W1 Durchfluss [l]','L1.R_B41 [bar]']\n",
    "    plt.stem(corr_coefs[i][column_indices[i]] )\n",
    "    plt.ylabel(\"Correlation coefficients\") \n",
    "    plt.title(num_of_sensor[i])\n",
    "\n",
    "interact(sensors_correlation,i=widgets.IntSlider(min=0, max=24, step=1))    "
   ]
  },
  {
   "cell_type": "markdown",
   "metadata": {},
   "source": [
    "Second approach is to perform Pearson correlation on unsorted amplitudes at given frequencies. It means Pearson correlation is performed between columns in  *A_df[i]*, where i denotes the sensor. There are 11927 columns in total. After that 200 of columns with highest Pearson correlation coefficients will be extracted. "
   ]
  },
  {
   "cell_type": "code",
   "execution_count": 313,
   "metadata": {},
   "outputs": [],
   "source": [
    "corr_coefs2=[None]*24\n",
    "column_indices2=[None]*24\n",
    "mean_of_amplitudes=[None]*24\n",
    "for i in range(24):\n",
    "    A_df[i].columns=range(11927)\n",
    "    corr_coefs2[i]=(A_df[i].corrwith(other=target200))\n",
    "    column_indices2[i]=np.argsort(np.abs(corr_coefs2[i]))[::-1]"
   ]
  },
  {
   "cell_type": "code",
   "execution_count": 315,
   "metadata": {},
   "outputs": [
    {
     "data": {
      "application/vnd.jupyter.widget-view+json": {
       "model_id": "6337b1486b7c40a9abbdd1e161f5a6f4",
       "version_major": 2,
       "version_minor": 0
      },
      "text/plain": [
       "interactive(children=(IntSlider(value=0, description='i', max=24), Output()), _dom_classes=('widget-interact',…"
      ]
     },
     "metadata": {},
     "output_type": "display_data"
    },
    {
     "data": {
      "text/plain": [
       "<function __main__.sensors_correlation2(i)>"
      ]
     },
     "execution_count": 315,
     "metadata": {},
     "output_type": "execute_result"
    }
   ],
   "source": [
    "%matplotlib inline\n",
    "font = {'family' : 'Times New Roman', 'weight' : 'normal', 'size'   : 20}\n",
    "mpl.rcParams['figure.figsize'] = (20,15)\n",
    "mpl.rc('font', **font)\n",
    "def sensors_correlation2(i):\n",
    "    num_of_sensor=['Power [kW]', 'Force [kN]', 'A_ges_vibr', 'Schlagzahl [1/min]','A_ACTpos [mm]', 'L_ACTpos [mm]', 'R_ACTpos [mm]','SBA_ActPos [mm]', 'A_ACT_Force [kN]', 'DB_ACT_Force [kN]','L_NOMpos [mm]', 'R_NOMpos [mm]', 'INDA_NOMpos [deg]','A_NOMpos [mm]', 'Frc_Volt', 'IP_ActPos [mm]', 'IP_NomPos','RamRetract_ActSpd [rpm]', 'ForgingBox_Temp', 'TMP_Ind_U1 [°C]','TMP_Ind_F [°C]', 'W2 Durchfluss [l]', 'W1 Durchfluss [l]','L1.R_B41 [bar]']\n",
    "    plt.stem(range(len(column_indices2[i].iloc[:200])),corr_coefs2[i][column_indices2[i].iloc[:200]])\n",
    "    plt.ylabel(\"Correlation coefficients\") \n",
    "    plt.title(num_of_sensor[i])\n",
    "\n",
    "interact(sensors_correlation2,i=widgets.IntSlider(min=0, max=24, step=1))    "
   ]
  },
  {
   "cell_type": "markdown",
   "metadata": {},
   "source": [
    "From the previous plots, it can be concluded that there are significant differences in these approaches. Because the second approach relies only on the correlation coefficients without sorting, this approach will be chosen for the next steps."
   ]
  },
  {
   "cell_type": "code",
   "execution_count": 279,
   "metadata": {},
   "outputs": [],
   "source": [
    "Amp_corr=[None]*24\n",
    "UA_corr=[None]*24\n",
    "for i in range(24):\n",
    "    Amp_corr[i]=A_df[i].iloc[:,column_indices2[i].iloc[:200]]\n",
    "    UA_corr[i]=UAP_df[i].iloc[:,column_indices2[i].iloc[:200]]"
   ]
  },
  {
   "cell_type": "markdown",
   "metadata": {},
   "source": [
    "Sensors which are identified as the most significant for the measurements of external diameter are:\n",
    "- 'Power [kW]', \n",
    "- 'Force [kN]', \n",
    "- 'A_ges_vibr', \n",
    "- 'Schlagzahl [1/min]',\n",
    "- 'SBA_ActPos [mm]',  \n",
    "- 'DB_ACT_Force [kN]',\n",
    "- 'Frc_Volt', \n",
    "- 'L1.R_B41 [bar]'\n"
   ]
  },
  {
   "cell_type": "code",
   "execution_count": null,
   "metadata": {},
   "outputs": [],
   "source": [
    "#assignment of column names\n",
    "list1=[None]*200\n",
    "for i in range(200):\n",
    "    list1[i]=\"Column\"+str(i)\n",
    "Amp_corr[0].columns=list1\n",
    "UA_corr[0].columns=list1    "
   ]
  },
  {
   "cell_type": "markdown",
   "metadata": {},
   "source": [
    "Because the outcome of the following work is not certain and it is not relied on some previous knowledge, only one sensor will be considered. This is the first sensor, that measures the power.  "
   ]
  },
  {
   "cell_type": "markdown",
   "metadata": {},
   "source": [
    "Data from this sensor will be split into training and testing."
   ]
  },
  {
   "cell_type": "code",
   "execution_count": 119,
   "metadata": {},
   "outputs": [
    {
     "name": "stderr",
     "output_type": "stream",
     "text": [
      "C:\\Users\\jugo01\\AppData\\Local\\Continuum\\anaconda3\\envs\\Zema\\lib\\importlib\\_bootstrap.py:219: RuntimeWarning: numpy.ufunc size changed, may indicate binary incompatibility. Expected 192 from C header, got 216 from PyObject\n",
      "  return f(*args, **kwds)\n",
      "C:\\Users\\jugo01\\AppData\\Local\\Continuum\\anaconda3\\envs\\Zema\\lib\\importlib\\_bootstrap.py:219: RuntimeWarning: numpy.ufunc size changed, may indicate binary incompatibility. Expected 192 from C header, got 216 from PyObject\n",
      "  return f(*args, **kwds)\n"
     ]
    }
   ],
   "source": [
    "from sklearn.model_selection import train_test_split\n",
    "from sklearn.metrics import r2_score\n"
   ]
  },
  {
   "cell_type": "code",
   "execution_count": 284,
   "metadata": {},
   "outputs": [],
   "source": [
    "y=target200.values"
   ]
  },
  {
   "cell_type": "code",
   "execution_count": 199,
   "metadata": {},
   "outputs": [],
   "source": [
    "y.columns=[\"Diameter\"]"
   ]
  },
  {
   "cell_type": "code",
   "execution_count": 288,
   "metadata": {},
   "outputs": [],
   "source": [
    "X=Amp_corr[0].copy()"
   ]
  },
  {
   "cell_type": "code",
   "execution_count": 305,
   "metadata": {},
   "outputs": [],
   "source": [
    "\n",
    "UA_df_train,UA_df_test,X_train, X_test, y_train, y_test = train_test_split(UA_corr[0],X, y, test_size = 0.3,random_state=42)"
   ]
  },
  {
   "cell_type": "code",
   "execution_count": 290,
   "metadata": {},
   "outputs": [
    {
     "data": {
      "text/plain": [
       "((56, 200), (25, 200))"
      ]
     },
     "execution_count": 290,
     "metadata": {},
     "output_type": "execute_result"
    }
   ],
   "source": [
    "X_train.shape, X_test.shape"
   ]
  },
  {
   "cell_type": "code",
   "execution_count": 291,
   "metadata": {},
   "outputs": [
    {
     "data": {
      "text/plain": [
       "((56,), (25,))"
      ]
     },
     "execution_count": 291,
     "metadata": {},
     "output_type": "execute_result"
    }
   ],
   "source": [
    "y_train.shape, y_test.shape"
   ]
  },
  {
   "cell_type": "code",
   "execution_count": null,
   "metadata": {},
   "outputs": [],
   "source": [
    "def draw_random_samples(draws):   \n",
    "    ind=[np.zeros(A_array.shape)]*draws\n",
    "    for i in range(draws):\n",
    "        r=np.random.randn(*A_array.shape)\n",
    "        ind[i]=A_array+r*(np.sqrt(UA_array))\n",
    "        \n",
    "    return ind"
   ]
  },
  {
   "cell_type": "code",
   "execution_count": 302,
   "metadata": {},
   "outputs": [],
   "source": [
    "a=clf.fit( X_train, y_train, sample_weight=None)"
   ]
  },
  {
   "cell_type": "code",
   "execution_count": 303,
   "metadata": {},
   "outputs": [
    {
     "data": {
      "text/plain": [
       "200"
      ]
     },
     "execution_count": 303,
     "metadata": {},
     "output_type": "execute_result"
    }
   ],
   "source": [
    "len(a.coef_)"
   ]
  },
  {
   "cell_type": "code",
   "execution_count": 304,
   "metadata": {},
   "outputs": [
    {
     "data": {
      "text/plain": [
       "array([-349.15951641,   75.22781299,   75.19797449])"
      ]
     },
     "execution_count": 304,
     "metadata": {},
     "output_type": "execute_result"
    }
   ],
   "source": [
    "a.scores_"
   ]
  },
  {
   "cell_type": "code",
   "execution_count": 297,
   "metadata": {},
   "outputs": [
    {
     "ename": "AttributeError",
     "evalue": "'BayesianRidge' object has no attribute 'coef'",
     "output_type": "error",
     "traceback": [
      "\u001b[1;31m---------------------------------------------------------------------------\u001b[0m",
      "\u001b[1;31mAttributeError\u001b[0m                            Traceback (most recent call last)",
      "\u001b[1;32m<ipython-input-297-2ace5e79384a>\u001b[0m in \u001b[0;36m<module>\u001b[1;34m\u001b[0m\n\u001b[1;32m----> 1\u001b[1;33m \u001b[0mclf\u001b[0m\u001b[1;33m.\u001b[0m\u001b[0mcoef\u001b[0m\u001b[1;33m\u001b[0m\u001b[1;33m\u001b[0m\u001b[0m\n\u001b[0m",
      "\u001b[1;31mAttributeError\u001b[0m: 'BayesianRidge' object has no attribute 'coef'"
     ]
    }
   ],
   "source": [
    "clf.coef"
   ]
  },
  {
   "cell_type": "code",
   "execution_count": 224,
   "metadata": {},
   "outputs": [
    {
     "name": "stderr",
     "output_type": "stream",
     "text": [
      "C:\\Users\\jugo01\\AppData\\Local\\Continuum\\anaconda3\\envs\\Zema\\lib\\site-packages\\sklearn\\utils\\validation.py:724: DataConversionWarning: A column-vector y was passed when a 1d array was expected. Please change the shape of y to (n_samples, ), for example using ravel().\n",
      "  y = column_or_1d(y, warn=True)\n"
     ]
    },
    {
     "data": {
      "text/plain": [
       "BayesianRidge(alpha_1=1e-06, alpha_2=1e-06, compute_score=False, copy_X=True,\n",
       "              fit_intercept=True, lambda_1=1e-06, lambda_2=1e-06, n_iter=300,\n",
       "              normalize=False, tol=0.001, verbose=False)"
      ]
     },
     "execution_count": 224,
     "metadata": {},
     "output_type": "execute_result"
    }
   ],
   "source": [
    "clf.fit(X_train,y_train)"
   ]
  },
  {
   "cell_type": "code",
   "execution_count": 225,
   "metadata": {},
   "outputs": [],
   "source": [
    "y_predicted=clf.predict(X_test)"
   ]
  },
  {
   "cell_type": "code",
   "execution_count": 226,
   "metadata": {},
   "outputs": [
    {
     "name": "stdout",
     "output_type": "stream",
     "text": [
      "Overall score of Random Forest is: 1.0\n"
     ]
    }
   ],
   "source": [
    "y_predicted=clf.predict(X_test)\n",
    "rf1_score=clf.score(X_test, clf.predict(X_test))\n",
    "print(\"Overall score of Random Forest is:\", rf1_score)\n"
   ]
  },
  {
   "cell_type": "code",
   "execution_count": 190,
   "metadata": {},
   "outputs": [],
   "source": [
    "# Shows the trace with a vertical line at the mean of the trace\n",
    "def plot_trace(trace):\n",
    "    # Traceplot with vertical lines at the mean value\n",
    "    ax = pm.traceplot(trace, figsize=(14, len(trace.varnames)*1.8),\n",
    "                      lines={k: v['mean'] for k, v in pm.df_summary(trace).iterrows()})\n",
    "    \n",
    "    matplotlib.rcParams['font.size'] = 16\n",
    "    \n",
    "    # Labels with the median value\n",
    "    for i, mn in enumerate(pm.df_summary(trace)['mean']):\n",
    "        ax[i, 0].annotate('{:0.2f}'.format(mn), xy = (mn, 0), xycoords = 'data', size = 8,\n",
    "                          xytext = (-18, 18), textcoords = 'offset points', rotation = 90,\n",
    "                          va = 'bottom', fontsize = 'large', color = 'red')"
   ]
  },
  {
   "cell_type": "code",
   "execution_count": 191,
   "metadata": {},
   "outputs": [
    {
     "ename": "NameError",
     "evalue": "name 'normal_trace' is not defined",
     "output_type": "error",
     "traceback": [
      "\u001b[1;31m---------------------------------------------------------------------------\u001b[0m",
      "\u001b[1;31mNameError\u001b[0m                                 Traceback (most recent call last)",
      "\u001b[1;32m<ipython-input-191-73bbb69a7369>\u001b[0m in \u001b[0;36m<module>\u001b[1;34m\u001b[0m\n\u001b[1;32m----> 1\u001b[1;33m \u001b[0mplot_trace\u001b[0m\u001b[1;33m(\u001b[0m\u001b[0mnormal_trace\u001b[0m\u001b[1;33m)\u001b[0m\u001b[1;33m\u001b[0m\u001b[1;33m\u001b[0m\u001b[0m\n\u001b[0m",
      "\u001b[1;31mNameError\u001b[0m: name 'normal_trace' is not defined"
     ]
    }
   ],
   "source": [
    "\n",
    "plot_trace(normal_trace)"
   ]
  },
  {
   "cell_type": "code",
   "execution_count": 316,
   "metadata": {},
   "outputs": [],
   "source": [
    "hf_a.close()\n",
    "hf_uap.close()"
   ]
  }
 ],
 "metadata": {
  "kernelspec": {
   "display_name": "Python 3",
   "language": "python",
   "name": "python3"
  },
  "language_info": {
   "codemirror_mode": {
    "name": "ipython",
    "version": 3
   },
   "file_extension": ".py",
   "mimetype": "text/x-python",
   "name": "python",
   "nbconvert_exporter": "python",
   "pygments_lexer": "ipython3",
   "version": "3.7.3"
  }
 },
 "nbformat": 4,
 "nbformat_minor": 2
}
