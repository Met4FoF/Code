{
 "cells": [
  {
   "cell_type": "markdown",
   "metadata": {},
   "source": [
    "# Data Download and Information"
   ]
  },
  {
   "cell_type": "markdown",
   "metadata": {},
   "source": [
    "This dataset can de downloaded using next link: \n",
    "\n",
    "https://www.dropbox.com/s/1xy2l2frqhh4o3t/AFRC%20Radial%20Forge%20-%20Zenodoo%20Upload%20v3.zip?dl=1, \n",
    "\n",
    "and it should be extracted in a folder 'Data' located in the same folder as this notebook.\n",
    "\n",
    "Basic description of this dataset comes with it, and it is showed here, also:"
   ]
  },
  {
   "cell_type": "markdown",
   "metadata": {},
   "source": [
    "**General information on the data set**\n",
    "\n",
    "Radial forging is widely used in industry to manufacture components for a broad range of sectors including automotive, medical, aerospace, rail and industrial. The Advanced Forming Research Centre (AFRC) at the University of Strathclyde, Glasgow, houses a GFM SKK10/R radial forge that has been used as a testbed for this project. Using two pairs of hammers operating at 1200 strokes/min, and providing a maximum forging force per hammer of 150 tons, the radial forge is capable of processing a range of metals, including steel, titanium and inconel. Both hollow and solid material can be formed with the added benefit of creating internal features on hollow parts using a mandrel. Parts can be formed at a range of temperatures from ambient temperature to 1200 $^\\circ$C.\n",
    "\n",
    "Files are located in .csv files named from \"Scope0001\" to \"Scope0081\". Every file represents one production part, a total of 81 parts were forged over one day of operation. Each forged part was then measured using a CMM to provide dimensional output relative to a target specification and tolerances. The CMM records 16 dimensional measurements. **CMM data represents target matrix.**\n",
    "\n",
    "**Structure of the data**\n",
    "\n",
    "•\tEach file of these 81 contains the readings (columns) against time (rows). The first column displays the clock times (in milliseconds). \n",
    "\n",
    "•\tA commentary on the sensors is provided in the file “ForgedPartDataStructureSummaryv3.xlsx”. Description of the target matrix is also provided in the same folder. **(NOTE: Some columns do not have sensor descriptions as this information is not available)**.\n",
    "\n",
    "•\tThe CMM data is provided in the file “CMMData.xlsx”.\n"
   ]
  },
  {
   "cell_type": "markdown",
   "metadata": {},
   "source": [
    "In order to apply machine learning methods on this data, better undertanding of it is a prerequisite. Therefore, before continuing, going through set of notebooks **Analysis of Data from the AFRC Radial Forge** is unavoidable\n",
    "part for understanding this dataset. These notebook are developed for preprocessing and visualisation of STRATH dataset (https://github.com/cidcom/met4fof-strath-afrc-testbed ). If they are still not public available, you can continue and try to understand even without looking at them.\n",
    "\n",
    "Good luck."
   ]
  },
  {
   "cell_type": "markdown",
   "metadata": {},
   "source": [
    "Most important parts of this GitHub repository are notebooks:\n",
    "\n",
    "`01--GFM-Process-Description.ipynb`  Proces description with picure of used machine and informations about different machine parts and axes. There are pictures and drawings of part before and after forging.\n",
    "    \n",
    "`02--Understanding-Segmentation.ipynb` - Description of different phases of process and criterions for separating into these phases.\n",
    "    \n",
    "`04--GFM-Kinematics-And-Explanation-of-Signals.ipynb` - Visualisation of signals for most of the machine axes.\n",
    "    "
   ]
  }
 ],
 "metadata": {
  "kernelspec": {
   "display_name": "Python 3",
   "language": "python",
   "name": "python3"
  },
  "language_info": {
   "codemirror_mode": {
    "name": "ipython",
    "version": 3
   },
   "file_extension": ".py",
   "mimetype": "text/x-python",
   "name": "python",
   "nbconvert_exporter": "python",
   "pygments_lexer": "ipython3",
   "version": "3.6.8"
  }
 },
 "nbformat": 4,
 "nbformat_minor": 2
}
