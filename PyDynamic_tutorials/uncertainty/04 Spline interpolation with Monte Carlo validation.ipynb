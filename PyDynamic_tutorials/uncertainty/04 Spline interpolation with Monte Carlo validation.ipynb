{
 "metadata": {
  "language_info": {
   "codemirror_mode": {
    "name": "ipython",
    "version": 3
   },
   "file_extension": ".py",
   "mimetype": "text/x-python",
   "name": "python",
   "nbconvert_exporter": "python",
   "pygments_lexer": "ipython3",
   "version": "3.8.1"
  },
  "orig_nbformat": 2,
  "kernelspec": {
   "name": "python38164bitpydynamicdevvenv4bdd8f5e043149979e2bf5405486e288",
   "display_name": "Python 3.8.1 64-bit ('pydynamic_dev')"
  },
  "metadata": {
   "interpreter": {
    "hash": "2871691860a0f2ee511cf5e193640a3a1e9952b79d97265c3cd46074257023ce"
   }
  }
 },
 "nbformat": 4,
 "nbformat_minor": 2,
 "cells": [
  {
   "source": [
    "# Cubic spline interpolation with PyDynamic.uncertainty.interpolate.interp1d_unc\n",
    "\n",
    "Interpolate a non-equidistant sine signal using cubic / bspline method with uncertainty propagation. Comparing the resulting uncertainties to a Monte-Carlo experiment yields good overlap. "
   ],
   "cell_type": "markdown",
   "metadata": {}
  },
  {
   "source": [
    "## Imports"
   ],
   "cell_type": "markdown",
   "metadata": {}
  },
  {
   "cell_type": "code",
   "execution_count": null,
   "metadata": {},
   "outputs": [],
   "source": [
    "import numpy as np\n",
    "from scipy.interpolate import interp1d\n",
    "import matplotlib.pyplot as plt\n",
    "from PyDynamic.uncertainty.interpolate import interp1d_unc"
   ]
  },
  {
   "source": [
    "## Create non-equidistant sine-signal"
   ],
   "cell_type": "markdown",
   "metadata": {}
  },
  {
   "cell_type": "code",
   "execution_count": null,
   "metadata": {},
   "outputs": [],
   "source": [
    "# base signal\n",
    "N = 10\n",
    "t = np.cumsum(0.5 * (1 + np.random.random(N)))\n",
    "x = np.sin(t) # + 0.01*np.random.randn(N)\n",
    "#ut = np.full_like(t, 0.05)\n",
    "ux = np.full_like(x, 0.2)"
   ]
  },
  {
   "source": [
    "## Interpolate with PyDynamic"
   ],
   "cell_type": "markdown",
   "metadata": {}
  },
  {
   "cell_type": "code",
   "execution_count": null,
   "metadata": {},
   "outputs": [],
   "source": [
    "ti = np.linspace(np.min(t), np.max(t), 60)\n",
    "ti, xi, uxi = interp1d_unc(ti, t, x, ux, kind=\"cubic\")"
   ]
  },
  {
   "source": [
    "## Interpolate with Monte Carlo"
   ],
   "cell_type": "markdown",
   "metadata": {}
  },
  {
   "cell_type": "code",
   "execution_count": null,
   "metadata": {},
   "outputs": [],
   "source": [
    "X_mc = []\n",
    "for i in range(2000):\n",
    "    interp_x = interp1d(t, x + ux * np.random.randn(len(x)), kind=\"cubic\")\n",
    "    xm = interp_x(ti)\n",
    "    X_mc.append(xm)\n",
    "x_mc = np.mean(X_mc, axis=0)\n",
    "ux_mc = np.std(X_mc, axis=0)"
   ]
  },
  {
   "source": [
    "## Compare results\n",
    "\n",
    "### Visual"
   ],
   "cell_type": "markdown",
   "metadata": {}
  },
  {
   "cell_type": "code",
   "execution_count": null,
   "metadata": {},
   "outputs": [],
   "source": [
    "# interpolated signal\n",
    "plt.plot(ti, xi, '-or', label=\"interpolation PyDynamic\")\n",
    "plt.fill_between(ti, xi + uxi, xi - uxi, color=\"r\", alpha=0.3)\n",
    "# interpolated signal\n",
    "plt.plot(ti, x_mc, '-ok', label=\"interpolation Monte Carlo\")\n",
    "plt.fill_between(ti, x_mc + ux_mc, x_mc - ux_mc, color=\"k\", alpha=0.3)\n",
    "# original signal\n",
    "plt.plot(t, x, '-ob', label=\"original\")\n",
    "plt.fill_between(t, x + ux, x - ux, color=\"b\", alpha=0.3)\n",
    "\n",
    "plt.legend()"
   ]
  },
  {
   "source": [
    "### Numerical"
   ],
   "cell_type": "markdown",
   "metadata": {}
  },
  {
   "cell_type": "code",
   "execution_count": null,
   "metadata": {},
   "outputs": [],
   "source": [
    "np.allclose(xi, x_mc, atol=1e-2, rtol=1e-2)"
   ]
  },
  {
   "cell_type": "code",
   "execution_count": null,
   "metadata": {},
   "outputs": [],
   "source": [
    "np.allclose(uxi, ux_mc, atol=1e-2, rtol=1e-2)"
   ]
  }
 ]
}