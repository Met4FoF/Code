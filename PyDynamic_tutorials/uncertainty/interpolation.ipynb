{
 "cells": [
  {
   "cell_type": "markdown",
   "metadata": {},
   "source": [
    "# `PyDynamic.uncertainty.interpolation` example\n",
    "\n",
    "In this notebook we illustrate the use of our method `interp1d_unc`, which is very much inspired by SciPy's interp1d method and therefore closely aligned with its signature and corresponding capabilities."
   ]
  }
 ],
 "metadata": {
  "language_info": {
   "codemirror_mode": {
    "name": "ipython",
    "version": 3
   },
   "file_extension": ".py",
   "mimetype": "text/x-python",
   "name": "python",
   "nbconvert_exporter": "python",
   "pygments_lexer": "ipython3",
   "version": 3
  },
  "orig_nbformat": 2
 },
 "nbformat": 4,
 "nbformat_minor": 2
}