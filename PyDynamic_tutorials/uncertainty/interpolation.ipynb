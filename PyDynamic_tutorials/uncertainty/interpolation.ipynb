{
 "cells": [
  {
   "cell_type": "markdown",
   "metadata": {},
   "source": [
    "# `PyDynamic.uncertainty.interpolation` example\n",
    "\n",
    "In this notebook we illustrate the use of our method `interp1d_unc`, which is very much inspired by SciPy's interp1d method and therefore closely aligned with its signature and corresponding capabilities.\n",
    "\n",
    "The examples proceed according to the following scheme:\n",
    "\n",
    "- First we download an example data set of real sensor recordings from Zenodo.org, which we will work with in the following.\n",
    "- We visualize the relevant part of the contained data and \n",
    "- ... prepare a simple interpolation as a first step."
   ]
  },
  {
   "cell_type": "code",
   "execution_count": null,
   "metadata": {},
   "outputs": [],
   "source": []
  }
 ],
 "metadata": {
  "language_info": {
   "codemirror_mode": {
    "name": "ipython",
    "version": 3
   },
   "file_extension": ".py",
   "mimetype": "text/x-python",
   "name": "python",
   "nbconvert_exporter": "python",
   "pygments_lexer": "ipython3",
   "version": 3
  },
  "orig_nbformat": 2
 },
 "nbformat": 4,
 "nbformat_minor": 2
}